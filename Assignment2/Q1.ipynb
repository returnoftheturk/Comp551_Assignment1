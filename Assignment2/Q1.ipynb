{
 "cells": [
  {
   "cell_type": "code",
   "execution_count": 56,
   "metadata": {
    "collapsed": true
   },
   "outputs": [],
   "source": [
    "%matplotlib inline\n",
    "import numpy as np\n",
    "import pandas as pd\n",
    "from mpl_toolkits.mplot3d import Axes3D\n",
    "import matplotlib.pyplot as plt\n",
    "from random import sample\n"
   ]
  },
  {
   "cell_type": "code",
   "execution_count": 5,
   "metadata": {
    "collapsed": true
   },
   "outputs": [],
   "source": [
    "def readCsv(fileName):\n",
    "    fullFileName = r'C:\\Users\\Owner\\McGill\\4thYear\\COMP551\\Assignments\\Assignment2\\Datasets\\DS' + fileName\n",
    "    df = pd.read_csv(fullFileName, encoding='utf-8', header = None,\n",
    "                 comment='#', sep=',')\n",
    "    \n",
    "    return df"
   ]
  },
  {
   "cell_type": "code",
   "execution_count": 161,
   "metadata": {},
   "outputs": [],
   "source": [
    "def createData():\n",
    "    df = readCsv('1_Cov.csv')\n",
    "    meanPositive = readCsv('1_m_1.csv').dropna(axis=1, how='all').as_matrix()\n",
    "    meanNegative = readCsv('1_m_0.csv').dropna(axis=1, how='all').as_matrix()\n",
    "    meanPositive = meanPositive[0,:]\n",
    "    meanNegative = meanNegative[0,:]\n",
    "    \n",
    "    cov = df.dropna(axis=1, how='all').as_matrix()\n",
    "    \n",
    "    distributionPositive = np.random.multivariate_normal(meanPositive, cov, 2000)\n",
    "    distributionNegative = np.random.multivariate_normal(meanNegative, cov, 2000)\n",
    "    \n",
    "    distributionPositive = np.c_[distributionPositive, np.ones(distributionPositive.shape[0])]\n",
    "    distributionNegative = np.c_[distributionNegative, -1*np.ones(distributionNegative.shape[0])]\n",
    "#     print('Positive', distributionPositive)\n",
    "#     print('Negative', distributionNegative)\n",
    "    distribution = np.concatenate((distributionPositive, distributionNegative), axis=0)\n",
    "    np.random.shuffle(distribution)\n",
    "    distributionTest = distribution[0:1200]\n",
    "    distributionTrain = distribution[1200:] \n",
    "    print(distribution)\n",
    "    print(distributionTest)\n",
    "    print(distributionTrain)\n",
    "    print('original', distribution.shape)\n",
    "    print('train', distributionTrain.shape)\n",
    "    print('test', distributionTest.shape)\n",
    "    return (distribution, distributionTest, distributionTrain)\n"
   ]
  },
  {
   "cell_type": "code",
   "execution_count": 162,
   "metadata": {},
   "outputs": [
    {
     "name": "stdout",
     "output_type": "stream",
     "text": [
      "[[ 4.98537155  5.06674229  4.21884673 ...,  6.54312634  6.37693658 -1.        ]\n",
      " [-0.88802452  2.45509744 -1.3399656  ...,  0.81971277  1.43013613  1.        ]\n",
      " [ 3.20384686  0.02048973  4.02284028 ..., -2.31229783  1.97465314 -1.        ]\n",
      " ..., \n",
      " [ 0.25039995 -2.07577561  0.6402229  ...,  1.91321538  2.77713604 -1.        ]\n",
      " [ 4.31805663  1.89805318  4.2003596  ...,  2.83153413  3.44798384  1.        ]\n",
      " [-0.64865468 -3.69737769 -2.83872472 ..., -1.89019625 -1.95710203  1.        ]]\n",
      "[[  4.98537155e+00   5.06674229e+00   4.21884673e+00 ...,   6.54312634e+00\n",
      "    6.37693658e+00  -1.00000000e+00]\n",
      " [ -8.88024522e-01   2.45509744e+00  -1.33996560e+00 ...,   8.19712775e-01\n",
      "    1.43013613e+00   1.00000000e+00]\n",
      " [  3.20384686e+00   2.04897274e-02   4.02284028e+00 ...,  -2.31229783e+00\n",
      "    1.97465314e+00  -1.00000000e+00]\n",
      " ..., \n",
      " [  2.69440765e+00   1.72182849e+00  -1.95739679e-03 ...,   9.49108129e-01\n",
      "    1.57897684e+00   1.00000000e+00]\n",
      " [ -4.27267568e+00  -2.93072414e+00  -3.44201573e+00 ...,  -3.20931776e+00\n",
      "    5.27907645e-02  -1.00000000e+00]\n",
      " [ -1.10721230e+00  -2.42360347e+00  -1.20882333e+00 ...,  -2.44191092e+00\n",
      "   -2.36721086e+00  -1.00000000e+00]]\n",
      "[[ 0.91167238  0.98247051  1.38550057 ...,  1.84517839 -0.96678756  1.        ]\n",
      " [ 0.15694738  2.92597704  1.80273581 ...,  2.94089777  1.39562385 -1.        ]\n",
      " [ 2.28078615  3.19249968  4.82792591 ...,  3.05328262  2.11117781  1.        ]\n",
      " ..., \n",
      " [ 0.25039995 -2.07577561  0.6402229  ...,  1.91321538  2.77713604 -1.        ]\n",
      " [ 4.31805663  1.89805318  4.2003596  ...,  2.83153413  3.44798384  1.        ]\n",
      " [-0.64865468 -3.69737769 -2.83872472 ..., -1.89019625 -1.95710203  1.        ]]\n",
      "original (4000, 21)\n",
      "train (2800, 21)\n",
      "test (1200, 21)\n"
     ]
    }
   ],
   "source": [
    "def initializeDS1():\n",
    "    fullDistribution, distributionTest, distributionTrain = createData()\n",
    "    toCsv('1_train.csv', distributionTrain)\n",
    "    toCsv('1_test.csv', distributionTest)\n",
    "    toCsv('1.csv', fullDistribution)\n",
    "initializeDS1()\n"
   ]
  },
  {
   "cell_type": "code",
   "execution_count": 124,
   "metadata": {},
   "outputs": [],
   "source": [
    "def visualizeStuff():\n",
    "    mean = [10, 10, 10]\n",
    "    cov = [[1, 0, 0], [0, 1, 0], [0, 0, 1]] \n",
    "    x, y, z = np.random.multivariate_normal(mean, cov, 10000).T\n",
    "\n",
    "    fig = plt.figure(figsize=(20,8))\n",
    "    ax = fig.add_subplot(111, projection='3d')\n",
    "\n",
    "    plt.scatter(x, y, z, c='red')\n",
    "    plt.axis('equal')\n",
    "    plt.show()\n",
    "# visualizeStuff()"
   ]
  },
  {
   "cell_type": "code",
   "execution_count": 141,
   "metadata": {
    "collapsed": true
   },
   "outputs": [],
   "source": [
    "def toCsv(fileName, npArray):\n",
    "    \n",
    "    fullFileName = r'C:\\Users\\Owner\\McGill\\4thYear\\COMP551\\Assignments\\Assignment2\\Datasets\\DS' + fileName\n",
    "    np.savetxt(fullFileName, npArray, delimiter=',')\n"
   ]
  },
  {
   "cell_type": "code",
   "execution_count": null,
   "metadata": {
    "collapsed": true
   },
   "outputs": [],
   "source": []
  },
  {
   "cell_type": "code",
   "execution_count": null,
   "metadata": {
    "collapsed": true
   },
   "outputs": [],
   "source": []
  }
 ],
 "metadata": {
  "kernelspec": {
   "display_name": "Python 3",
   "language": "python",
   "name": "python3"
  },
  "language_info": {
   "codemirror_mode": {
    "name": "ipython",
    "version": 3
   },
   "file_extension": ".py",
   "mimetype": "text/x-python",
   "name": "python",
   "nbconvert_exporter": "python",
   "pygments_lexer": "ipython3",
   "version": "3.6.3"
  }
 },
 "nbformat": 4,
 "nbformat_minor": 2
}
