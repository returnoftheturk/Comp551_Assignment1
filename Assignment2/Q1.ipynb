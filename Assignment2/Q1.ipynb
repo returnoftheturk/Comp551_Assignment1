{
 "cells": [
  {
   "cell_type": "code",
   "execution_count": 56,
   "metadata": {
    "collapsed": true
   },
   "outputs": [],
   "source": [
    "%matplotlib inline\n",
    "import numpy as np\n",
    "import pandas as pd\n",
    "from mpl_toolkits.mplot3d import Axes3D\n",
    "import matplotlib.pyplot as plt\n",
    "from random import sample\n"
   ]
  },
  {
   "cell_type": "code",
   "execution_count": 5,
   "metadata": {
    "collapsed": true
   },
   "outputs": [],
   "source": [
    "def readCsv(fileName):\n",
    "    fullFileName = r'C:\\Users\\Owner\\McGill\\4thYear\\COMP551\\Assignments\\Assignment2\\Datasets\\DS' + fileName\n",
    "    df = pd.read_csv(fullFileName, encoding='utf-8', header = None,\n",
    "                 comment='#', sep=',')\n",
    "    \n",
    "    return df"
   ]
  },
  {
   "cell_type": "code",
   "execution_count": 144,
   "metadata": {},
   "outputs": [
    {
     "name": "stdout",
     "output_type": "stream",
     "text": [
      "Positive [[-0.0629785   0.86446056  1.36890964 ...,  0.812043    1.00218697  1.        ]\n",
      " [ 7.01621941  5.7277629   5.48446724 ...,  4.91953125  3.51645861  1.        ]\n",
      " [ 0.13406069  3.98428671  2.61232464 ...,  3.74289121  1.57803612  1.        ]\n",
      " ..., \n",
      " [ 2.23602869  2.53316241  5.03817541 ...,  0.2548309   2.82639535  1.        ]\n",
      " [ 0.06584834 -3.24021801 -1.73529472 ..., -1.53381777 -0.90660449  1.        ]\n",
      " [-3.65382629 -2.86405708 -4.08409458 ..., -2.28369655 -1.87574823  1.        ]]\n",
      "Negative [[ 3.28715415  1.14017513  3.16429846 ...,  2.88505507  4.76280554 -1.        ]\n",
      " [ 1.84416038  4.64703676  4.61943836 ...,  1.99180245  3.46667915 -1.        ]\n",
      " [ 3.18189049  7.02638566  6.72910782 ...,  2.85792979  5.02089634 -1.        ]\n",
      " ..., \n",
      " [-4.48000086 -2.7534792  -2.27856433 ..., -1.83981709 -0.68808368 -1.        ]\n",
      " [ 3.13618591  5.57580382  4.57677955 ...,  4.42550439  5.00760315 -1.        ]\n",
      " [-2.47513993 -3.38410979  1.30530368 ..., -1.55455769 -0.49639278 -1.        ]]\n",
      "[[ 1.17978455 -0.40363553  3.15572459 ..., -0.22470842  0.38859289 -1.        ]\n",
      " [-3.70329358 -4.63466042 -1.04332122 ..., -1.24160272 -3.60679972 -1.        ]\n",
      " [ 5.25240407  4.32982604  7.32005265 ...,  7.11455419  3.18407854  1.        ]\n",
      " ..., \n",
      " [ 0.46222331  1.41350179  0.63939133 ..., -2.10266342  0.85125219 -1.        ]\n",
      " [-0.05306426  0.60378711  2.47195547 ..., -1.38674481 -0.33455891  1.        ]\n",
      " [ 2.93540407  2.60663218  3.29898164 ...,  3.01575924  4.52713375  1.        ]]\n"
     ]
    },
    {
     "ename": "PermissionError",
     "evalue": "[Errno 13] Permission denied: 'C:\\\\Users\\\\Owner\\\\McGill\\\\4thYear\\\\COMP551\\\\Assignments\\\\Assignment2\\\\Datasets\\\\DS1.csv'",
     "output_type": "error",
     "traceback": [
      "\u001b[1;31m---------------------------------------------------------------------------\u001b[0m",
      "\u001b[1;31mPermissionError\u001b[0m                           Traceback (most recent call last)",
      "\u001b[1;32m<ipython-input-144-c1e93564c1ad>\u001b[0m in \u001b[0;36m<module>\u001b[1;34m()\u001b[0m\n\u001b[0;32m     20\u001b[0m     \u001b[1;32mreturn\u001b[0m \u001b[0mdistribution\u001b[0m\u001b[1;33m\u001b[0m\u001b[0m\n\u001b[0;32m     21\u001b[0m \u001b[1;33m\u001b[0m\u001b[0m\n\u001b[1;32m---> 22\u001b[1;33m \u001b[0mtoCsv\u001b[0m\u001b[1;33m(\u001b[0m\u001b[1;34m'1.csv'\u001b[0m\u001b[1;33m,\u001b[0m \u001b[0mcreateData\u001b[0m\u001b[1;33m(\u001b[0m\u001b[1;33m)\u001b[0m\u001b[1;33m)\u001b[0m\u001b[1;33m\u001b[0m\u001b[0m\n\u001b[0m",
      "\u001b[1;32m<ipython-input-141-5cfb5924a009>\u001b[0m in \u001b[0;36mtoCsv\u001b[1;34m(fileName, npArray)\u001b[0m\n\u001b[0;32m      2\u001b[0m \u001b[1;33m\u001b[0m\u001b[0m\n\u001b[0;32m      3\u001b[0m     \u001b[0mfullFileName\u001b[0m \u001b[1;33m=\u001b[0m \u001b[1;34mr'C:\\Users\\Owner\\McGill\\4thYear\\COMP551\\Assignments\\Assignment2\\Datasets\\DS'\u001b[0m \u001b[1;33m+\u001b[0m \u001b[0mfileName\u001b[0m\u001b[1;33m\u001b[0m\u001b[0m\n\u001b[1;32m----> 4\u001b[1;33m     \u001b[0mnp\u001b[0m\u001b[1;33m.\u001b[0m\u001b[0msavetxt\u001b[0m\u001b[1;33m(\u001b[0m\u001b[0mfullFileName\u001b[0m\u001b[1;33m,\u001b[0m \u001b[0mnpArray\u001b[0m\u001b[1;33m,\u001b[0m \u001b[0mdelimiter\u001b[0m\u001b[1;33m=\u001b[0m\u001b[1;34m','\u001b[0m\u001b[1;33m)\u001b[0m\u001b[1;33m\u001b[0m\u001b[0m\n\u001b[0m",
      "\u001b[1;32m~\\Anaconda3\\lib\\site-packages\\numpy\\lib\\npyio.py\u001b[0m in \u001b[0;36msavetxt\u001b[1;34m(fname, X, fmt, delimiter, newline, header, footer, comments)\u001b[0m\n\u001b[0;32m   1190\u001b[0m         \u001b[1;32melse\u001b[0m\u001b[1;33m:\u001b[0m\u001b[1;33m\u001b[0m\u001b[0m\n\u001b[0;32m   1191\u001b[0m             \u001b[1;32mif\u001b[0m \u001b[0msys\u001b[0m\u001b[1;33m.\u001b[0m\u001b[0mversion_info\u001b[0m\u001b[1;33m[\u001b[0m\u001b[1;36m0\u001b[0m\u001b[1;33m]\u001b[0m \u001b[1;33m>=\u001b[0m \u001b[1;36m3\u001b[0m\u001b[1;33m:\u001b[0m\u001b[1;33m\u001b[0m\u001b[0m\n\u001b[1;32m-> 1192\u001b[1;33m                 \u001b[0mfh\u001b[0m \u001b[1;33m=\u001b[0m \u001b[0mopen\u001b[0m\u001b[1;33m(\u001b[0m\u001b[0mfname\u001b[0m\u001b[1;33m,\u001b[0m \u001b[1;34m'wb'\u001b[0m\u001b[1;33m)\u001b[0m\u001b[1;33m\u001b[0m\u001b[0m\n\u001b[0m\u001b[0;32m   1193\u001b[0m             \u001b[1;32melse\u001b[0m\u001b[1;33m:\u001b[0m\u001b[1;33m\u001b[0m\u001b[0m\n\u001b[0;32m   1194\u001b[0m                 \u001b[0mfh\u001b[0m \u001b[1;33m=\u001b[0m \u001b[0mopen\u001b[0m\u001b[1;33m(\u001b[0m\u001b[0mfname\u001b[0m\u001b[1;33m,\u001b[0m \u001b[1;34m'w'\u001b[0m\u001b[1;33m)\u001b[0m\u001b[1;33m\u001b[0m\u001b[0m\n",
      "\u001b[1;31mPermissionError\u001b[0m: [Errno 13] Permission denied: 'C:\\\\Users\\\\Owner\\\\McGill\\\\4thYear\\\\COMP551\\\\Assignments\\\\Assignment2\\\\Datasets\\\\DS1.csv'"
     ]
    }
   ],
   "source": [
    "def createData():\n",
    "    df = readCsv('1_Cov.csv')\n",
    "    meanPositive = readCsv('1_m_1.csv').dropna(axis=1, how='all').as_matrix()\n",
    "    meanNegative = readCsv('1_m_0.csv').dropna(axis=1, how='all').as_matrix()\n",
    "    meanPositive = meanPositive[0,:]\n",
    "    meanNegative = meanNegative[0,:]\n",
    "    \n",
    "    cov = df.dropna(axis=1, how='all').as_matrix()\n",
    "    \n",
    "    distributionPositive = np.random.multivariate_normal(meanPositive, cov, 2000)\n",
    "    distributionNegative = np.random.multivariate_normal(meanNegative, cov, 2000)\n",
    "    \n",
    "    distributionPositive = np.c_[distributionPositive, np.ones(distributionPositive.shape[0])]\n",
    "    distributionNegative = np.c_[distributionNegative, -1*np.ones(distributionNegative.shape[0])]\n",
    "    print('Positive', distributionPositive)\n",
    "    print('Negative', distributionNegative)\n",
    "    distribution = np.concatenate((distributionPositive, distributionNegative), axis=0)\n",
    "    np.random.shuffle(distribution)\n",
    "    print(distribution)\n",
    "    return distribution\n",
    "\n",
    "toCsv('1.csv', createData())"
   ]
  },
  {
   "cell_type": "code",
   "execution_count": 124,
   "metadata": {},
   "outputs": [],
   "source": [
    "def visualizeStuff():\n",
    "    mean = [10, 10, 10]\n",
    "    cov = [[1, 0, 0], [0, 1, 0], [0, 0, 1]] \n",
    "    x, y, z = np.random.multivariate_normal(mean, cov, 10000).T\n",
    "\n",
    "    fig = plt.figure(figsize=(20,8))\n",
    "    ax = fig.add_subplot(111, projection='3d')\n",
    "\n",
    "    plt.scatter(x, y, z, c='red')\n",
    "    plt.axis('equal')\n",
    "    plt.show()\n",
    "# visualizeStuff()"
   ]
  },
  {
   "cell_type": "code",
   "execution_count": 141,
   "metadata": {
    "collapsed": true
   },
   "outputs": [],
   "source": [
    "def toCsv(fileName, npArray):\n",
    "    \n",
    "    fullFileName = r'C:\\Users\\Owner\\McGill\\4thYear\\COMP551\\Assignments\\Assignment2\\Datasets\\DS' + fileName\n",
    "    np.savetxt(fullFileName, npArray, delimiter=',')\n"
   ]
  },
  {
   "cell_type": "code",
   "execution_count": null,
   "metadata": {
    "collapsed": true
   },
   "outputs": [],
   "source": []
  },
  {
   "cell_type": "code",
   "execution_count": null,
   "metadata": {
    "collapsed": true
   },
   "outputs": [],
   "source": []
  }
 ],
 "metadata": {
  "kernelspec": {
   "display_name": "Python 3",
   "language": "python",
   "name": "python3"
  },
  "language_info": {
   "codemirror_mode": {
    "name": "ipython",
    "version": 3
   },
   "file_extension": ".py",
   "mimetype": "text/x-python",
   "name": "python",
   "nbconvert_exporter": "python",
   "pygments_lexer": "ipython3",
   "version": "3.6.3"
  }
 },
 "nbformat": 4,
 "nbformat_minor": 2
}
