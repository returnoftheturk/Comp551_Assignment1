{
 "cells": [
  {
   "cell_type": "code",
   "execution_count": 1,
   "metadata": {
    "collapsed": true
   },
   "outputs": [],
   "source": [
    "%matplotlib inline\n",
    "import numpy as np\n",
    "import pandas as pd\n",
    "from mpl_toolkits.mplot3d import Axes3D\n",
    "import matplotlib.pyplot as plt\n",
    "from random import sample\n"
   ]
  },
  {
   "cell_type": "code",
   "execution_count": 2,
   "metadata": {
    "collapsed": true
   },
   "outputs": [],
   "source": [
    "def readCsv(fileName):\n",
    "    fullFileName = r'C:\\Users\\Owner\\McGill\\4thYear\\COMP551\\Assignments\\Assignment2\\Datasets\\DS' + fileName\n",
    "    df = pd.read_csv(fullFileName, encoding='utf-8', header = None,\n",
    "                 comment='#', sep=',')\n",
    "    \n",
    "    return df"
   ]
  },
  {
   "cell_type": "code",
   "execution_count": 3,
   "metadata": {
    "collapsed": true
   },
   "outputs": [],
   "source": [
    "def createData():\n",
    "    df = readCsv('1_Cov.csv')\n",
    "    meanPositive = readCsv('1_m_1.csv').dropna(axis=1, how='all').as_matrix()\n",
    "    meanNegative = readCsv('1_m_0.csv').dropna(axis=1, how='all').as_matrix()\n",
    "    meanPositive = meanPositive[0,:]\n",
    "    meanNegative = meanNegative[0,:]\n",
    "    \n",
    "    cov = df.dropna(axis=1, how='all').as_matrix()\n",
    "    \n",
    "    distributionPositive = np.random.multivariate_normal(meanPositive, cov, 2000)\n",
    "    distributionNegative = np.random.multivariate_normal(meanNegative, cov, 2000)\n",
    "    \n",
    "    distributionPositive = np.c_[distributionPositive, np.ones(distributionPositive.shape[0])]\n",
    "    distributionNegative = np.c_[distributionNegative, np.zeros(distributionNegative.shape[0])]\n",
    "#     print('Positive', distributionPositive)\n",
    "#     print('Negative', distributionNegative)\n",
    "    distribution = np.concatenate((distributionPositive, distributionNegative), axis=0)\n",
    "    np.random.shuffle(distribution)\n",
    "    distributionTest = distribution[0:1200]\n",
    "    distributionTrain = distribution[1200:] \n",
    "    print(distribution)\n",
    "    print(distributionTest)\n",
    "    print(distributionTrain)\n",
    "    print('original', distribution.shape)\n",
    "    print('train', distributionTrain.shape)\n",
    "    print('test', distributionTest.shape)\n",
    "    return (distribution, distributionTest, distributionTrain)\n"
   ]
  },
  {
   "cell_type": "code",
   "execution_count": 4,
   "metadata": {
    "collapsed": true
   },
   "outputs": [],
   "source": [
    "def toCsv(fileName, npArray):\n",
    "    \n",
    "    fullFileName = r'C:\\Users\\Owner\\McGill\\4thYear\\COMP551\\Assignments\\Assignment2\\Datasets\\DS' + fileName\n",
    "    np.savetxt(fullFileName, npArray, delimiter=',')\n"
   ]
  },
  {
   "cell_type": "code",
   "execution_count": 5,
   "metadata": {},
   "outputs": [
    {
     "name": "stdout",
     "output_type": "stream",
     "text": [
      "[[-1.96813941 -1.36731598  0.8709495  ..., -1.7888388  -0.32786317  1.        ]\n",
      " [ 4.59363397  5.02203898  4.48394658 ...,  5.24934967  2.85462927  1.        ]\n",
      " [ 3.50865605  3.51813678  7.26843244 ...,  1.51237812  2.60544689  0.        ]\n",
      " ..., \n",
      " [-3.4661588  -2.67880532 -4.42310559 ..., -2.27219633 -2.33953776  0.        ]\n",
      " [-1.86869786 -0.85671284 -2.35203223 ..., -2.59177284 -1.07752331  0.        ]\n",
      " [-3.86179705 -0.61350199 -1.78123321 ..., -3.60412378  0.51086162  0.        ]]\n",
      "[[-1.96813941 -1.36731598  0.8709495  ..., -1.7888388  -0.32786317  1.        ]\n",
      " [ 4.59363397  5.02203898  4.48394658 ...,  5.24934967  2.85462927  1.        ]\n",
      " [ 3.50865605  3.51813678  7.26843244 ...,  1.51237812  2.60544689  0.        ]\n",
      " ..., \n",
      " [ 1.56463803 -1.69328951 -1.34517965 ...,  1.18924525  3.01797646  1.        ]\n",
      " [ 1.32245224  1.2956472   4.91379902 ...,  1.38080925  3.46909986  0.        ]\n",
      " [-0.03891431  2.73332995  1.93012171 ...,  3.12014719  1.89583549  0.        ]]\n",
      "[[ 0.18969063  1.43265928  0.24712939 ...,  3.49670595 -0.85346717  1.        ]\n",
      " [-0.59161566  0.33525782 -0.82602888 ...,  0.25211373 -0.11313016  0.        ]\n",
      " [ 2.86385878  0.30896774  3.52227123 ...,  3.06418489  1.25681385  0.        ]\n",
      " ..., \n",
      " [-3.4661588  -2.67880532 -4.42310559 ..., -2.27219633 -2.33953776  0.        ]\n",
      " [-1.86869786 -0.85671284 -2.35203223 ..., -2.59177284 -1.07752331  0.        ]\n",
      " [-3.86179705 -0.61350199 -1.78123321 ..., -3.60412378  0.51086162  0.        ]]\n",
      "original (4000, 21)\n",
      "train (2800, 21)\n",
      "test (1200, 21)\n"
     ]
    }
   ],
   "source": [
    "def initializeDS1():\n",
    "    fullDistribution, distributionTest, distributionTrain = createData()\n",
    "    toCsv('1_train.csv', distributionTrain)\n",
    "    toCsv('1_test.csv', distributionTest)\n",
    "    toCsv('1.csv', fullDistribution)\n",
    "initializeDS1()\n"
   ]
  },
  {
   "cell_type": "code",
   "execution_count": 6,
   "metadata": {
    "collapsed": true
   },
   "outputs": [],
   "source": [
    "def visualizeStuff():\n",
    "    mean = [10, 10, 10]\n",
    "    cov = [[1, 0, 0], [0, 1, 0], [0, 0, 1]] \n",
    "    x, y, z = np.random.multivariate_normal(mean, cov, 10000).T\n",
    "\n",
    "    fig = plt.figure(figsize=(20,8))\n",
    "    ax = fig.add_subplot(111, projection='3d')\n",
    "\n",
    "    plt.scatter(x, y, z, c='red')\n",
    "    plt.axis('equal')\n",
    "    plt.show()\n",
    "# visualizeStuff()"
   ]
  },
  {
   "cell_type": "code",
   "execution_count": 34,
   "metadata": {},
   "outputs": [
    {
     "name": "stdout",
     "output_type": "stream",
     "text": [
      "[ 2.0481571   2.02347394  2.05037788  2.04524597  2.10530863  2.02750125\n",
      "  2.06749715  2.05607714  2.00353346  1.96973319  2.06789442  2.04956393\n",
      "  2.03209717  2.09537586  2.06822274  2.03197757  2.06102946  2.01914767\n",
      "  2.13865579  2.05738195]\n",
      "[ 1.34235165  1.27590385  1.2931513   1.33289967  1.34141175  1.28238359\n",
      "  1.40182503  1.35265194  1.27748009  1.25367154  1.29213937  1.36513627\n",
      "  1.33504341  1.28175396  1.2678472   1.25515131  1.27928885  1.2649528\n",
      "  1.35729231  1.27362941]\n"
     ]
    }
   ],
   "source": [
    "def runLDA():\n",
    "    dfTrain = readCsv('1_train.csv')\n",
    "    N1, N2, pi, S, U1, U2 = np.zeros(8)\n",
    "    Y = dfTrain[20].as_matrix()\n",
    "    dfTrain = dfTrain.iloc[:,0:20]\n",
    "    \n",
    "    S1 = np.zeros((20,20))\n",
    "    S2 = np.zeros((20,20))\n",
    "    N1 = np.count_nonzero(Y)\n",
    "    N2 = 2800 - N1\n",
    "    pi = N1/(N1+N2)\n",
    "    \n",
    "    for i in range(0, len(dfTrain)):\n",
    "        U1 = U1 + Y[i]*dfTrain.iloc[i,:].as_matrix()\n",
    "        U2 = U2 + (1-Y[i])*dfTrain.iloc[i,:].as_matrix()\n",
    "    U1 = U1/N1\n",
    "    U2 = U2/N2\n",
    "    \n",
    "    print(U1)\n",
    "    print(U2)\n",
    "    \n",
    "    for i in range(0)\n",
    "\n",
    "#     print(dfTrain)\n",
    "    test = dfTrain.iloc[0,:].as_matrix()\n",
    "#     print(test)\n",
    "#     print(test.transpose())\n",
    "#     print(np.dot(test,test))\n",
    "#     print(np.outer(test, test).size)\n",
    "#     for i in range(0, len(dfTrain)):\n",
    "#         print(dfTrain.iloc[i,20])\n",
    "#         U1 += dfTrain.iloc[i,20]*\n",
    "runLDA()\n"
   ]
  },
  {
   "cell_type": "code",
   "execution_count": null,
   "metadata": {
    "collapsed": true
   },
   "outputs": [],
   "source": []
  },
  {
   "cell_type": "code",
   "execution_count": null,
   "metadata": {
    "collapsed": true
   },
   "outputs": [],
   "source": []
  },
  {
   "cell_type": "code",
   "execution_count": null,
   "metadata": {
    "collapsed": true
   },
   "outputs": [],
   "source": []
  }
 ],
 "metadata": {
  "kernelspec": {
   "display_name": "Python 3",
   "language": "python",
   "name": "python3"
  },
  "language_info": {
   "codemirror_mode": {
    "name": "ipython",
    "version": 3
   },
   "file_extension": ".py",
   "mimetype": "text/x-python",
   "name": "python",
   "nbconvert_exporter": "python",
   "pygments_lexer": "ipython3",
   "version": "3.6.3"
  }
 },
 "nbformat": 4,
 "nbformat_minor": 2
}
