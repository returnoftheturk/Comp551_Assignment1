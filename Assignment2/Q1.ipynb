{
 "cells": [
  {
   "cell_type": "code",
   "execution_count": 7,
   "metadata": {
    "collapsed": true
   },
   "outputs": [],
   "source": [
    "%matplotlib inline\n",
    "import numpy as np\n",
    "import pandas as pd\n",
    "from mpl_toolkits.mplot3d import Axes3D\n",
    "import matplotlib.pyplot as plt\n",
    "from random import sample\n"
   ]
  },
  {
   "cell_type": "code",
   "execution_count": 8,
   "metadata": {
    "collapsed": true
   },
   "outputs": [],
   "source": [
    "def readCsv(fileName):\n",
    "    fullFileName = r'C:\\Users\\Owner\\McGill\\4thYear\\COMP551\\Assignments\\Assignment2\\Datasets\\DS' + fileName\n",
    "    df = pd.read_csv(fullFileName, encoding='utf-8', header = None,\n",
    "                 comment='#', sep=',')\n",
    "    \n",
    "    return df"
   ]
  },
  {
   "cell_type": "code",
   "execution_count": 9,
   "metadata": {
    "collapsed": true
   },
   "outputs": [],
   "source": [
    "def createData():\n",
    "    df = readCsv('1_Cov.csv')\n",
    "    meanPositive = readCsv('1_m_1.csv').dropna(axis=1, how='all').as_matrix()\n",
    "    meanNegative = readCsv('1_m_0.csv').dropna(axis=1, how='all').as_matrix()\n",
    "    meanPositive = meanPositive[0,:]\n",
    "    meanNegative = meanNegative[0,:]\n",
    "    \n",
    "    cov = df.dropna(axis=1, how='all').as_matrix()\n",
    "    \n",
    "    distributionPositive = np.random.multivariate_normal(meanPositive, cov, 2000)\n",
    "    distributionNegative = np.random.multivariate_normal(meanNegative, cov, 2000)\n",
    "    \n",
    "    distributionPositive = np.c_[distributionPositive, np.ones(distributionPositive.shape[0])]\n",
    "    distributionNegative = np.c_[distributionNegative, np.zeros(distributionNegative.shape[0])]\n",
    "#     print('Positive', distributionPositive)\n",
    "#     print('Negative', distributionNegative)\n",
    "    distribution = np.concatenate((distributionPositive, distributionNegative), axis=0)\n",
    "    np.random.shuffle(distribution)\n",
    "    distributionTest = distribution[0:1200]\n",
    "    distributionTrain = distribution[1200:] \n",
    "    print(distribution)\n",
    "    print(distributionTest)\n",
    "    print(distributionTrain)\n",
    "    print('original', distribution.shape)\n",
    "    print('train', distributionTrain.shape)\n",
    "    print('test', distributionTest.shape)\n",
    "    return (distribution, distributionTest, distributionTrain)\n"
   ]
  },
  {
   "cell_type": "code",
   "execution_count": 10,
   "metadata": {
    "collapsed": true
   },
   "outputs": [],
   "source": [
    "def toCsv(fileName, npArray):\n",
    "    \n",
    "    fullFileName = r'C:\\Users\\Owner\\McGill\\4thYear\\COMP551\\Assignments\\Assignment2\\Datasets\\DS' + fileName\n",
    "    np.savetxt(fullFileName, npArray, delimiter=',')\n"
   ]
  },
  {
   "cell_type": "code",
   "execution_count": 77,
   "metadata": {},
   "outputs": [],
   "source": [
    "def initializeDS1():\n",
    "    fullDistribution, distributionTest, distributionTrain = createData()\n",
    "    toCsv('1_train.csv', distributionTrain)\n",
    "    toCsv('1_test.csv', distributionTest)\n",
    "    toCsv('1.csv', fullDistribution)\n",
    "# initializeDS1()\n"
   ]
  },
  {
   "cell_type": "code",
   "execution_count": 12,
   "metadata": {
    "collapsed": true
   },
   "outputs": [],
   "source": [
    "def visualizeStuff():\n",
    "    mean = [10, 10, 10]\n",
    "    cov = [[1, 0, 0], [0, 1, 0], [0, 0, 1]] \n",
    "    x, y, z = np.random.multivariate_normal(mean, cov, 10000).T\n",
    "\n",
    "    fig = plt.figure(figsize=(20,8))\n",
    "    ax = fig.add_subplot(111, projection='3d')\n",
    "\n",
    "    plt.scatter(x, y, z, c='red')\n",
    "    plt.axis('equal')\n",
    "    plt.show()\n",
    "# visualizeStuff()"
   ]
  },
  {
   "cell_type": "code",
   "execution_count": 66,
   "metadata": {},
   "outputs": [
    {
     "data": {
      "text/plain": [
       "(array([ 1.92486305,  1.88574537,  1.91903303,  1.9023876 ,  1.87220534,\n",
       "         1.92675551,  1.90384851,  1.93631247,  1.92383374,  1.88307188,\n",
       "         1.93366121,  1.8939727 ,  1.8565985 ,  1.92555162,  1.90964703,\n",
       "         1.86961943,  1.91901221,  1.90444018,  1.92062611,  1.86677443]),\n",
       " array([ 1.2578635 ,  1.33369734,  1.22781812,  1.24713771,  1.2745293 ,\n",
       "         1.2742541 ,  1.29876692,  1.24321133,  1.23592936,  1.29741145,\n",
       "         1.26109714,  1.26499492,  1.27306806,  1.24368497,  1.26658048,\n",
       "         1.24846667,  1.20458703,  1.26859286,  1.28606356,  1.29473774]),\n",
       " 0.5,\n",
       " array([[ 8.0615456 ,  5.54023354,  6.33323801,  5.24674662,  6.02534845,\n",
       "          6.29813792,  4.80638065,  5.56427935,  5.08785888,  5.306586  ,\n",
       "          4.06744829,  5.34554859,  7.19348875,  6.16442614,  6.23079925,\n",
       "          6.14010753,  5.9777847 ,  5.79110427,  5.75451037,  6.05636299],\n",
       "        [ 5.54023354,  6.82704627,  5.45586708,  4.35102419,  5.54560142,\n",
       "          5.62241695,  4.38019284,  3.99700092,  4.17439172,  5.0667105 ,\n",
       "          3.42920118,  4.63308771,  5.91255215,  5.22008792,  5.51742136,\n",
       "          5.27390571,  5.68707093,  5.15873333,  5.42499206,  5.36940271],\n",
       "        [ 6.33323801,  5.45586708,  7.46264998,  4.91798934,  5.95914007,\n",
       "          6.76916316,  4.71897136,  4.91492352,  4.97997905,  5.21088771,\n",
       "          3.37949685,  4.76855865,  6.49880727,  5.31054049,  6.24094858,\n",
       "          6.08816915,  6.36884001,  5.08964861,  4.86479941,  5.21529275],\n",
       "        [ 5.24674662,  4.35102419,  4.91798934,  5.8091975 ,  5.35139632,\n",
       "          4.55298434,  3.75199064,  4.44548935,  3.42112162,  4.32414227,\n",
       "          2.84503784,  4.22380196,  5.97935023,  4.89707982,  4.84113141,\n",
       "          5.13355756,  4.70817118,  4.64109447,  4.00727385,  5.89717266],\n",
       "        [ 6.02534845,  5.54560142,  5.95914007,  5.35139632,  7.24158198,\n",
       "          5.56146878,  5.17666702,  4.52160611,  4.82956956,  5.29823818,\n",
       "          4.2698059 ,  5.14519563,  6.3853618 ,  6.09870671,  6.16911122,\n",
       "          6.39678468,  6.09182489,  5.31232918,  5.61497257,  5.93510321],\n",
       "        [ 6.29813792,  5.62241695,  6.76916316,  4.55298434,  5.56146878,\n",
       "          6.90224511,  4.56974591,  5.00880734,  4.84407908,  5.47027041,\n",
       "          3.09009518,  4.91080693,  6.51065036,  5.13528913,  5.94013165,\n",
       "          6.12704514,  6.04957686,  5.10459406,  4.92643946,  5.32832003],\n",
       "        [ 4.80638065,  4.38019284,  4.71897136,  3.75199064,  5.17666702,\n",
       "          4.56974591,  5.24968557,  4.0064217 ,  4.07518813,  4.47199267,\n",
       "          3.1414642 ,  4.43405465,  4.84002363,  4.30587025,  4.82649804,\n",
       "          5.41616197,  4.45661031,  3.8042805 ,  4.78412201,  4.01869939],\n",
       "        [ 5.56427935,  3.99700092,  4.91492352,  4.44548935,  4.52160611,\n",
       "          5.00880734,  4.0064217 ,  6.1373358 ,  3.65479466,  5.08793196,\n",
       "          2.66883256,  4.97390283,  6.33141276,  5.31169997,  4.98117821,\n",
       "          6.29002344,  4.6004594 ,  5.04278742,  4.97100901,  4.61085804],\n",
       "        [ 5.08785888,  4.17439172,  4.97997905,  3.42112162,  4.82956956,\n",
       "          4.84407908,  4.07518813,  3.65479466,  5.01442827,  4.69979339,\n",
       "          3.21369765,  4.14270938,  5.13117672,  4.75966807,  5.02039635,\n",
       "          5.25938176,  5.1969007 ,  4.11853029,  4.36184046,  4.15180785],\n",
       "        [ 5.306586  ,  5.0667105 ,  5.21088771,  4.32414227,  5.29823818,\n",
       "          5.47027041,  4.47199267,  5.08793196,  4.69979339,  7.22993603,\n",
       "          3.39593981,  4.84423839,  6.98703688,  5.33810472,  5.13071138,\n",
       "          6.12028485,  4.883369  ,  5.39420652,  4.71409546,  5.47381829],\n",
       "        [ 4.06744829,  3.42920118,  3.37949685,  2.84503784,  4.2698059 ,\n",
       "          3.09009518,  3.1414642 ,  2.66883256,  3.21369765,  3.39593981,\n",
       "          3.4797634 ,  3.02109906,  3.81563439,  4.11780763,  3.75838935,\n",
       "          3.83249693,  3.75278219,  3.32134872,  3.92092593,  3.58950132],\n",
       "        [ 5.34554859,  4.63308771,  4.76855865,  4.22380196,  5.14519563,\n",
       "          4.91080693,  4.43405465,  4.97390283,  4.14270938,  4.84423839,\n",
       "          3.02109906,  5.34107908,  6.1199687 ,  5.14996843,  4.905715  ,\n",
       "          5.68254328,  5.12847848,  4.97629853,  5.17278444,  4.60451951],\n",
       "        [ 7.19348875,  5.91255215,  6.49880727,  5.97935023,  6.3853618 ,\n",
       "          6.51065036,  4.84002363,  6.33141276,  5.13117672,  6.98703688,\n",
       "          3.81563439,  6.1199687 ,  9.233844  ,  6.42666165,  6.36163125,\n",
       "          6.70248276,  6.08119386,  6.44945735,  6.03404879,  7.43293555],\n",
       "        [ 6.16442614,  5.22008792,  5.31054049,  4.89707982,  6.09870671,\n",
       "          5.13528913,  4.30587025,  5.31169997,  4.75966807,  5.33810472,\n",
       "          4.11780763,  5.14996843,  6.42666165,  7.19391908,  6.07129249,\n",
       "          6.41289369,  5.85536464,  5.73644682,  6.16412539,  5.70236574],\n",
       "        [ 6.23079925,  5.51742136,  6.24094858,  4.84113141,  6.16911122,\n",
       "          5.94013165,  4.82649804,  4.98117821,  5.02039635,  5.13071138,\n",
       "          3.75838935,  4.905715  ,  6.36163125,  6.07129249,  7.1183353 ,\n",
       "          7.29991019,  5.96146569,  5.23855267,  5.67257622,  5.90237173],\n",
       "        [ 6.14010753,  5.27390571,  6.08816915,  5.13355756,  6.39678468,\n",
       "          6.12704514,  5.41616197,  6.29002344,  5.25938176,  6.12028485,\n",
       "          3.83249693,  5.68254328,  6.70248276,  6.41289369,  7.29991019,\n",
       "          9.50012532,  5.99164346,  6.01459484,  5.86142663,  6.03040186],\n",
       "        [ 5.9777847 ,  5.68707093,  6.36884001,  4.70817118,  6.09182489,\n",
       "          6.04957686,  4.45661031,  4.6004594 ,  5.1969007 ,  4.883369  ,\n",
       "          3.75278219,  5.12847848,  6.08119386,  5.85536464,  5.96146569,\n",
       "          5.99164346,  6.84247695,  5.28922571,  5.47552669,  5.04327693],\n",
       "        [ 5.79110427,  5.15873333,  5.08964861,  4.64109447,  5.31232918,\n",
       "          5.10459406,  3.8042805 ,  5.04278742,  4.11853029,  5.39420652,\n",
       "          3.32134872,  4.97629853,  6.44945735,  5.73644682,  5.23855267,\n",
       "          6.01459484,  5.28922571,  6.03446742,  4.99494465,  5.23636401],\n",
       "        [ 5.75451037,  5.42499206,  4.86479941,  4.00727385,  5.61497257,\n",
       "          4.92643946,  4.78412201,  4.97100901,  4.36184046,  4.71409546,\n",
       "          3.92092593,  5.17278444,  6.03404879,  6.16412539,  5.67257622,\n",
       "          5.86142663,  5.47552669,  4.99494465,  6.61169287,  5.08615366],\n",
       "        [ 6.05636299,  5.36940271,  5.21529275,  5.89717266,  5.93510321,\n",
       "          5.32832003,  4.01869939,  4.61085804,  4.15180785,  5.47381829,\n",
       "          3.58950132,  4.60451951,  7.43293555,  5.70236574,  5.90237173,\n",
       "          6.03040186,  5.04327693,  5.23636401,  5.08615366,  8.1605727 ]]))"
      ]
     },
     "execution_count": 66,
     "metadata": {},
     "output_type": "execute_result"
    }
   ],
   "source": [
    "def runLDA():\n",
    "    dfTrain = readCsv('1_train.csv')\n",
    "    N, N1, N2, pi, U1, U2 = np.zeros(6)\n",
    "    Y = dfTrain[20].as_matrix()\n",
    "    dfTrain = dfTrain.iloc[:,0:20]\n",
    "    S = np.zeros((20,20))\n",
    "    S1 = np.zeros((20,20))\n",
    "    S2 = np.zeros((20,20))\n",
    "    N = len(dfTrain)\n",
    "    N1 = np.count_nonzero(Y)\n",
    "    N2 = N - N1\n",
    "    pi = N1/N\n",
    "    \n",
    "    for i in range(0, len(dfTrain)):\n",
    "        U1 = U1 + Y[i]*dfTrain.iloc[i,:].as_matrix()\n",
    "        U2 = U2 + (1-Y[i])*dfTrain.iloc[i,:].as_matrix()\n",
    "    U1 = U1/N1\n",
    "    U2 = U2/N2\n",
    "    \n",
    "    for i in range(0, len(dfTrain)):\n",
    "        xSubMean = np.zeros(20)\n",
    "        if (Y[i]==1):\n",
    "            xSubMean = np.subtract(dfTrain.iloc[i,:].as_matrix(), U1)   \n",
    "            S1 = S1 + np.outer(xSubMean, xSubMean)\n",
    "        elif (Y[i]==0):\n",
    "            xSubMean = np.subtract(dfTrain.iloc[i,:].as_matrix(), U2)\n",
    "            S2 = S2 + np.outer(xSubMean, xSubMean)\n",
    "        \n",
    "    S = np.add(S1, S2)\n",
    "    S = np.divide(S, N)\n",
    "    return (U1, U2, pi, S)\n",
    "\n",
    "runLDA()\n"
   ]
  },
  {
   "cell_type": "code",
   "execution_count": 67,
   "metadata": {},
   "outputs": [
    {
     "data": {
      "text/plain": [
       "(array([-14.88105119,   8.69068246,   5.56391428,   3.26425236,\n",
       "          9.81126017,   4.62701308, -17.20608142,  24.84481984,\n",
       "         29.87743031,  -9.49635768,  13.62003589,  12.47560219,\n",
       "        -15.94523547, -13.28126465,   5.92634042, -13.48856649,\n",
       "        -29.98969146,   7.04258343,   0.43809373,   5.12597768]),\n",
       " -28.079005846796129)"
      ]
     },
     "execution_count": 67,
     "metadata": {},
     "output_type": "execute_result"
    }
   ],
   "source": [
    "def linearDecisionBoundary():\n",
    "    U1, U2, pi, S = runLDA()\n",
    "    invS = np.linalg.inv(S)\n",
    "    w = np.dot(invS, np.subtract(U1, U2))\n",
    "    w0 = 0\n",
    "    w0 = np.divide(np.dot(U1.T, np.dot(invS, U1)), -2)\n",
    "    w0 = w0 + np.divide(np.dot(U2.T, np.dot(invS, U2)), 2)\n",
    "    w0 = w0 + np.log(pi/(1-pi))\n",
    "    \n",
    "#     print(w)\n",
    "    return (w, w0)\n",
    "\n",
    "linearDecisionBoundary()"
   ]
  },
  {
   "cell_type": "code",
   "execution_count": 76,
   "metadata": {},
   "outputs": [
    {
     "name": "stdout",
     "output_type": "stream",
     "text": [
      "-28.0790058468\n",
      "[-14.88105119   8.69068246   5.56391428   3.26425236   9.81126017\n",
      "   4.62701308 -17.20608142  24.84481984  29.87743031  -9.49635768\n",
      "  13.62003589  12.47560219 -15.94523547 -13.28126465   5.92634042\n",
      " -13.48856649 -29.98969146   7.04258343   0.43809373   5.12597768]\n",
      "True Positive 560.0\n",
      "False Negative 40.0\n",
      "False Positive 26.0\n",
      "Precision 0.955631399317\n",
      "Recall 0.933333333333\n",
      "F-Measure 0.944350758853\n"
     ]
    }
   ],
   "source": [
    "def testData():\n",
    "    w, w0 = linearDecisionBoundary()\n",
    "    dfTest = readCsv('1_test.csv')\n",
    "    Y = dfTest[20].as_matrix()\n",
    "    dfTest = dfTest.iloc[:,0:20]\n",
    "    classifier = 0\n",
    "    print(w0)\n",
    "    print(w)\n",
    "    truePositive, falsePositive, falseNegative = np.zeros(3)\n",
    "    for i in range(0, len(dfTest)):\n",
    "        probability = np.dot(w, dfTest.iloc[i,:].as_matrix()) + w0\n",
    "        if probability>=0:\n",
    "            if Y[i] == 1:\n",
    "                truePositive+=1\n",
    "            elif Y[i] == 0:\n",
    "                falsePositive+=1\n",
    "                \n",
    "        elif probability<0 and Y[i] == 1:\n",
    "            falseNegative+=1\n",
    "        \n",
    "    print('True Positive', truePositive)\n",
    "    print('False Negative', falseNegative)\n",
    "    print('False Positive', falsePositive)\n",
    "    precision = truePositive/(truePositive+falsePositive)\n",
    "    recall = truePositive/(truePositive+falseNegative)\n",
    "    fMeasure = 2*precision*recall/(precision+recall)\n",
    "    print('Precision', precision)\n",
    "    print('Recall', recall)\n",
    "    print('F-Measure', fMeasure)\n",
    "testData()"
   ]
  },
  {
   "cell_type": "code",
   "execution_count": null,
   "metadata": {
    "collapsed": true
   },
   "outputs": [],
   "source": []
  }
 ],
 "metadata": {
  "kernelspec": {
   "display_name": "Python 3",
   "language": "python",
   "name": "python3"
  },
  "language_info": {
   "codemirror_mode": {
    "name": "ipython",
    "version": 3
   },
   "file_extension": ".py",
   "mimetype": "text/x-python",
   "name": "python",
   "nbconvert_exporter": "python",
   "pygments_lexer": "ipython3",
   "version": "3.6.3"
  }
 },
 "nbformat": 4,
 "nbformat_minor": 2
}
