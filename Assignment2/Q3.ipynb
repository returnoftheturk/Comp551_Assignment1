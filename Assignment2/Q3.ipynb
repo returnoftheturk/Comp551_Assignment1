{
 "cells": [
  {
   "cell_type": "code",
   "execution_count": 49,
   "metadata": {
    "collapsed": true
   },
   "outputs": [],
   "source": [
    "%matplotlib inline\n",
    "import numpy as np\n",
    "import pandas as pd\n",
    "import matplotlib.pyplot as plt\n",
    "from random import sample\n",
    "from collections import Counter\n"
   ]
  },
  {
   "cell_type": "code",
   "execution_count": 5,
   "metadata": {
    "collapsed": true
   },
   "outputs": [],
   "source": [
    "def readCsv(fileName):\n",
    "    fullFileName = r'C:\\Users\\Owner\\McGill\\4thYear\\COMP551\\Assignments\\Assignment2\\Datasets\\DS' + fileName\n",
    "    df = pd.read_csv(fullFileName, encoding='utf-8', header = None,\n",
    "                 comment='#', sep=',')\n",
    "    \n",
    "    return df"
   ]
  },
  {
   "cell_type": "code",
   "execution_count": 100,
   "metadata": {},
   "outputs": [],
   "source": [
    "def kMM(testRow):\n",
    "    dfTrain = readCsv('1_train.csv')\n",
    "    dfTest = readCsv('1_test.csv')\n",
    "    distancesList = list()\n",
    "    \n",
    "    for i in range(0, len(dfTrain)):\n",
    "        distancesList.append(findDistance(testRow, dfTrain.iloc[i, :]))\n",
    "    return sorted(distancesList)\n"
   ]
  },
  {
   "cell_type": "code",
   "execution_count": 101,
   "metadata": {},
   "outputs": [],
   "source": [
    "def vote(neighbors):\n",
    "    classCounter = Counter()\n",
    "    for neighbor in neighbors:\n",
    "        classCounter[neighbor[1]]+=1\n",
    "\n",
    "    print(classCounter.most_common(2))\n",
    "    return classCounter.most_common(1)[0][0]"
   ]
  },
  {
   "cell_type": "code",
   "execution_count": 102,
   "metadata": {
    "collapsed": true
   },
   "outputs": [],
   "source": [
    "def findDistance(vectorTest, vectorTrain):\n",
    "    vectorTrainClass = vectorTrain[20]\n",
    "    vectorTest = vectorTest[0:20].as_matrix()\n",
    "    vectorTrain = vectorTrain[0:20].as_matrix()\n",
    "    distance = np.linalg.norm(vectorTest-vectorTrain)\n",
    "    return (distance, vectorTrainClass)\n",
    "    \n",
    "    "
   ]
  },
  {
   "cell_type": "code",
   "execution_count": 103,
   "metadata": {},
   "outputs": [
    {
     "name": "stdout",
     "output_type": "stream",
     "text": [
      "[(1.0, 8), (0.0, 3)]\n",
      "1.0\n"
     ]
    }
   ],
   "source": [
    "def getNNClass(testRow, k):\n",
    "    listSorted = kMM(testRow)\n",
    "    classCounter = vote(listSorted[0:k])\n",
    "    return classCounter\n",
    "#     print(classCounter)\n",
    "    \n",
    "# main()"
   ]
  },
  {
   "cell_type": "code",
   "execution_count": null,
   "metadata": {
    "collapsed": true
   },
   "outputs": [],
   "source": [
    "def iterateTestData():\n",
    "    dfTest = readCsv('1_test.csv')\n",
    "    predictions = list()\n",
    "    for i in range(0, len(dfTest)):\n",
    "        predictions.append(getNNClass())"
   ]
  }
 ],
 "metadata": {
  "kernelspec": {
   "display_name": "Python 3",
   "language": "python",
   "name": "python3"
  },
  "language_info": {
   "codemirror_mode": {
    "name": "ipython",
    "version": 3
   },
   "file_extension": ".py",
   "mimetype": "text/x-python",
   "name": "python",
   "nbconvert_exporter": "python",
   "pygments_lexer": "ipython3",
   "version": "3.6.3"
  }
 },
 "nbformat": 4,
 "nbformat_minor": 2
}
