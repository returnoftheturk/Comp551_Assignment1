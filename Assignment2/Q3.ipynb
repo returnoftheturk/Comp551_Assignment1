{
 "cells": [
  {
   "cell_type": "code",
   "execution_count": 1,
   "metadata": {
    "collapsed": true
   },
   "outputs": [],
   "source": [
    "%matplotlib inline\n",
    "import numpy as np\n",
    "import pandas as pd\n",
    "import matplotlib.pyplot as plt\n",
    "from random import sample\n",
    "from collections import Counter\n"
   ]
  },
  {
   "cell_type": "code",
   "execution_count": 2,
   "metadata": {
    "collapsed": true
   },
   "outputs": [],
   "source": [
    "def readCsv(fileName):\n",
    "    fullFileName = r'C:\\Users\\Owner\\McGill\\4thYear\\COMP551\\Assignments\\Assignment2\\Datasets\\DS' + fileName\n",
    "    df = pd.read_csv(fullFileName, encoding='utf-8', header = None,\n",
    "                 comment='#', sep=',')\n",
    "    \n",
    "    return df"
   ]
  },
  {
   "cell_type": "code",
   "execution_count": 3,
   "metadata": {
    "collapsed": true
   },
   "outputs": [],
   "source": [
    "def vote(neighbors):\n",
    "    classCounter = Counter()\n",
    "    for neighbor in neighbors:\n",
    "        classCounter[neighbor[1]]+=1\n",
    "        \n",
    "    return classCounter.most_common(1)[0][0]"
   ]
  },
  {
   "cell_type": "code",
   "execution_count": 4,
   "metadata": {
    "collapsed": true
   },
   "outputs": [],
   "source": [
    "def kMM(testRow, dfTrain):\n",
    "    vectorTrainClass = dfTrain.iloc[:,20].as_matrix()\n",
    "    matrixTrain = dfTrain.iloc[:,0:20].as_matrix()\n",
    "    vectorTest = testRow[0:20].as_matrix()\n",
    "#     print(vectorTest)\n",
    "    subtractedMatrix = np.subtract(matrixTrain, vectorTest)\n",
    "    squareMatrix = np.square(subtractedMatrix)\n",
    "    distances = np.sqrt(np.sum(squareMatrix, axis = 1))\n",
    "    zipped = list(zip(distances, vectorTrainClass))\n",
    "    \n",
    "    return sorted(zipped)\n",
    "        \n"
   ]
  },
  {
   "cell_type": "code",
   "execution_count": 5,
   "metadata": {
    "collapsed": true
   },
   "outputs": [],
   "source": [
    "def getNNClass(testRow, k, dfTrain):\n",
    "    listSorted = kMM(testRow, dfTrain)\n",
    "    classCounter = vote(listSorted[0:k])\n",
    "    \n",
    "    return classCounter"
   ]
  },
  {
   "cell_type": "code",
   "execution_count": 14,
   "metadata": {},
   "outputs": [],
   "source": [
    "def iterateTestData(dfTest, dfTrain, k):\n",
    "    predictions = list()\n",
    "    \n",
    "    for i in range(0, len(dfTest)):\n",
    "        predictions.append(getNNClass(dfTest.iloc[i,:], k, dfTrain))\n",
    "\n",
    "    return predictions\n"
   ]
  },
  {
   "cell_type": "code",
   "execution_count": 15,
   "metadata": {},
   "outputs": [
    {
     "name": "stdout",
     "output_type": "stream",
     "text": [
      "True Positive 366.0\n",
      "True Negative 328.0\n",
      "False Negative 234.0\n",
      "False Positive 272.0\n",
      "Precision 0.573667711599\n",
      "Recall 0.61\n",
      "F-Measure 0.591276252019\n"
     ]
    },
    {
     "data": {
      "text/plain": [
       "(0.57366771159874608, 0.60999999999999999, 0.59127625201938616)"
      ]
     },
     "execution_count": 15,
     "metadata": {},
     "output_type": "execute_result"
    }
   ],
   "source": [
    "def testScores(k):\n",
    "    dfTest = readCsv('1_test.csv')\n",
    "    dfTrain = readCsv('1_train.csv')\n",
    "    \n",
    "    predictionArray = iterateTestData(dfTest, dfTrain, k)\n",
    "    \n",
    "    dfTest = dfTest[20].as_matrix()\n",
    "#     print(dfTest)\n",
    "    truePositive,trueNegative, falsePositive, falseNegative = np.zeros(4)\n",
    "    for i in range(0, len(dfTest)):\n",
    "        if predictionArray[i]==1:\n",
    "            if dfTest[i]==1:\n",
    "                truePositive+=1\n",
    "            elif dfTest[i]==0:\n",
    "                falsePositive+=1\n",
    "        elif predictionArray[i]==0:\n",
    "            if dfTest[i]==1:\n",
    "                falseNegative+=1\n",
    "            elif dfTest[i]==0:\n",
    "                trueNegative+=1\n",
    "                \n",
    "    print('True Positive', truePositive)\n",
    "    print('True Negative', trueNegative)\n",
    "    print('False Negative', falseNegative)\n",
    "    print('False Positive', falsePositive)\n",
    "    precision = truePositive/(truePositive+falsePositive)\n",
    "    recall = truePositive/(truePositive+falseNegative)\n",
    "    fMeasure = 2*precision*recall/(precision+recall)\n",
    "    print('Precision', precision)\n",
    "    print('Recall', recall)\n",
    "    print('F-Measure', fMeasure)\n",
    "    return (precision, recall, fMeasure)\n",
    "testScores(15)"
   ]
  },
  {
   "cell_type": "code",
   "execution_count": null,
   "metadata": {},
   "outputs": [
    {
     "name": "stdout",
     "output_type": "stream",
     "text": [
      "[  1.   3.   5.   7.   9.  11.  13.  15.  17.  19.  21.]\n",
      "True Positive 341.0\n",
      "True Negative 321.0\n",
      "False Negative 259.0\n",
      "False Positive 279.0\n",
      "Precision 0.55\n",
      "Recall 0.568333333333\n",
      "F-Measure 0.559016393443\n",
      "(0.55000000000000004, 0.56833333333333336, 0.55901639344262299)\n"
     ]
    }
   ],
   "source": [
    "def graphFit():\n",
    "    k = np.linspace(1,21, 11)\n",
    "    fMeasure = list()\n",
    "    print(k)\n",
    "    for i in k:\n",
    "        testScore = testScores(int(i))\n",
    "        print(testScore)\n",
    "        fMeasure.append(testScore[2])\n",
    "        \n",
    "#     df = readCsv(fileName)\n",
    "#     w1 = calculateEstimate(l2)\n",
    "#     xp = np.linspace(-1,1,1000)\n",
    "\n",
    "    plt.figure(figsize=(20,8), dpi=80)\n",
    "#     plt.scatter(, marker='*')\n",
    "    plt.plot(k, fMeasure, '-' )\n",
    "#     plt.plot(xp, w1(xp), '-')\n",
    "    plt.xlabel('K-Value')\n",
    "    plt.ylabel('F-Measure')\n",
    "    plt.title('Best F-Measure Values')\n",
    "    plt.show()\n",
    "graphFit()"
   ]
  },
  {
   "cell_type": "code",
   "execution_count": null,
   "metadata": {
    "collapsed": true
   },
   "outputs": [],
   "source": []
  }
 ],
 "metadata": {
  "kernelspec": {
   "display_name": "Python 3",
   "language": "python",
   "name": "python3"
  },
  "language_info": {
   "codemirror_mode": {
    "name": "ipython",
    "version": 3
   },
   "file_extension": ".py",
   "mimetype": "text/x-python",
   "name": "python",
   "nbconvert_exporter": "python",
   "pygments_lexer": "ipython3",
   "version": "3.6.3"
  }
 },
 "nbformat": 4,
 "nbformat_minor": 2
}
