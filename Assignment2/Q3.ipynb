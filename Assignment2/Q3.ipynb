{
 "cells": [
  {
   "cell_type": "code",
   "execution_count": 1,
   "metadata": {
    "collapsed": true
   },
   "outputs": [],
   "source": [
    "%matplotlib inline\n",
    "import numpy as np\n",
    "import pandas as pd\n",
    "import matplotlib.pyplot as plt\n",
    "from random import sample\n",
    "from collections import Counter\n"
   ]
  },
  {
   "cell_type": "code",
   "execution_count": 2,
   "metadata": {
    "collapsed": true
   },
   "outputs": [],
   "source": [
    "def readCsv(fileName):\n",
    "    fullFileName = r'C:\\Users\\Owner\\McGill\\4thYear\\COMP551\\Assignments\\Assignment2\\Datasets\\DS' + fileName\n",
    "    df = pd.read_csv(fullFileName, encoding='utf-8', header = None,\n",
    "                 comment='#', sep=',')\n",
    "    \n",
    "    return df"
   ]
  },
  {
   "cell_type": "code",
   "execution_count": 3,
   "metadata": {
    "collapsed": true
   },
   "outputs": [],
   "source": [
    "def vote(neighbors):\n",
    "    classCounter = Counter()\n",
    "    for neighbor in neighbors:\n",
    "        classCounter[neighbor[1]]+=1\n",
    "        \n",
    "    return classCounter.most_common(1)[0][0]"
   ]
  },
  {
   "cell_type": "code",
   "execution_count": 4,
   "metadata": {
    "collapsed": true
   },
   "outputs": [],
   "source": [
    "def kMM(testRow, dfTrain):\n",
    "    vectorTrainClass = dfTrain.iloc[:,20].as_matrix()\n",
    "    matrixTrain = dfTrain.iloc[:,0:20].as_matrix()\n",
    "    vectorTest = testRow[0:20].as_matrix()\n",
    "#     print(vectorTest)\n",
    "    subtractedMatrix = np.subtract(matrixTrain, vectorTest)\n",
    "    squareMatrix = np.square(subtractedMatrix)\n",
    "    distances = np.sqrt(np.sum(squareMatrix, axis = 1))\n",
    "    zipped = list(zip(distances, vectorTrainClass))\n",
    "    \n",
    "    return sorted(zipped)\n",
    "        \n"
   ]
  },
  {
   "cell_type": "code",
   "execution_count": 5,
   "metadata": {
    "collapsed": true
   },
   "outputs": [],
   "source": [
    "def getNNClass(testRow, k, dfTrain):\n",
    "    listSorted = kMM(testRow, dfTrain)\n",
    "    classCounter = vote(listSorted[0:k])\n",
    "    \n",
    "    return classCounter"
   ]
  },
  {
   "cell_type": "code",
   "execution_count": 14,
   "metadata": {},
   "outputs": [],
   "source": [
    "def iterateTestData(dfTest, dfTrain, k):\n",
    "    predictions = list()\n",
    "    \n",
    "    for i in range(0, len(dfTest)):\n",
    "        predictions.append(getNNClass(dfTest.iloc[i,:], k, dfTrain))\n",
    "\n",
    "    return predictions\n"
   ]
  },
  {
   "cell_type": "code",
   "execution_count": 35,
   "metadata": {},
   "outputs": [
    {
     "ename": "TypeError",
     "evalue": "testScores() missing 1 required positional argument: 'k'",
     "output_type": "error",
     "traceback": [
      "\u001b[1;31m---------------------------------------------------------------------------\u001b[0m",
      "\u001b[1;31mTypeError\u001b[0m                                 Traceback (most recent call last)",
      "\u001b[1;32m<ipython-input-35-c9ca767bf3bb>\u001b[0m in \u001b[0;36m<module>\u001b[1;34m()\u001b[0m\n\u001b[0;32m     30\u001b[0m     \u001b[1;32mreturn\u001b[0m \u001b[1;33m(\u001b[0m\u001b[0mprecision\u001b[0m\u001b[1;33m,\u001b[0m \u001b[0mrecall\u001b[0m\u001b[1;33m,\u001b[0m \u001b[0mfMeasure\u001b[0m\u001b[1;33m)\u001b[0m\u001b[1;33m\u001b[0m\u001b[0m\n\u001b[0;32m     31\u001b[0m \u001b[1;33m\u001b[0m\u001b[0m\n\u001b[1;32m---> 32\u001b[1;33m \u001b[0mtestScores\u001b[0m\u001b[1;33m(\u001b[0m\u001b[1;36m15\u001b[0m\u001b[1;33m)\u001b[0m\u001b[1;33m\u001b[0m\u001b[0m\n\u001b[0m",
      "\u001b[1;31mTypeError\u001b[0m: testScores() missing 1 required positional argument: 'k'"
     ]
    }
   ],
   "source": [
    "def testScores(dataset, k):\n",
    "    if dataset == 1:\n",
    "        dfTest = readCsv('1_test.csv')\n",
    "        dfTrain = readCsv('1_train.csv')\n",
    "    else:\n",
    "        dfTest = readCsv('2_test.csv')\n",
    "        dfTrain = readCsv('2_train.csv')\n",
    "    \n",
    "    predictionArray = iterateTestData(dfTest, dfTrain, k)\n",
    "    \n",
    "    dfTest = dfTest[20].as_matrix()\n",
    "#     print(dfTest)\n",
    "    truePositive,trueNegative, falsePositive, falseNegative = np.zeros(4)\n",
    "    for i in range(0, len(dfTest)):\n",
    "        if predictionArray[i]==1:\n",
    "            if dfTest[i]==1:\n",
    "                truePositive+=1\n",
    "            elif dfTest[i]==0:\n",
    "                falsePositive+=1\n",
    "        elif predictionArray[i]==0:\n",
    "            if dfTest[i]==1:\n",
    "                falseNegative+=1\n",
    "            elif dfTest[i]==0:\n",
    "                trueNegative+=1\n",
    "\n",
    "    precision = truePositive/(truePositive+falsePositive)\n",
    "    recall = truePositive/(truePositive+falseNegative)\n",
    "    fMeasure = 2*precision*recall/(precision+recall)\n",
    "\n",
    "    return (precision, recall, fMeasure)\n",
    "\n",
    "testScores(15)"
   ]
  },
  {
   "cell_type": "code",
   "execution_count": 37,
   "metadata": {},
   "outputs": [],
   "source": [
    "def graphFit(dataset):\n",
    "    k = np.linspace(1,101, 51)\n",
    "    fMeasure = list()\n",
    "    print(k)\n",
    "    for i in k:\n",
    "        testScore = testScores(dataset, int(i))\n",
    "#         print(testScore)\n",
    "        fMeasure.append(testScore[2])\n",
    "        \n",
    "    plt.figure(figsize=(20,8), dpi=80)\n",
    "    plt.plot(k, fMeasure, '-' )\n",
    "    plt.xlabel('K-Value')\n",
    "    plt.ylabel('F-Measure')\n",
    "    plt.title('Best F-Measure Values')\n",
    "    plt.show()\n",
    "    "
   ]
  },
  {
   "cell_type": "code",
   "execution_count": null,
   "metadata": {},
   "outputs": [
    {
     "name": "stdout",
     "output_type": "stream",
     "text": [
      "[   1.    3.    5.    7.    9.   11.   13.   15.   17.   19.   21.   23.\n",
      "   25.   27.   29.   31.   33.   35.   37.   39.   41.   43.   45.   47.\n",
      "   49.   51.   53.   55.   57.   59.   61.   63.   65.   67.   69.   71.\n",
      "   73.   75.   77.   79.   81.   83.   85.   87.   89.   91.   93.   95.\n",
      "   97.   99.  101.]\n"
     ]
    }
   ],
   "source": [
    "graphFit(2)"
   ]
  }
 ],
 "metadata": {
  "kernelspec": {
   "display_name": "Python 3",
   "language": "python",
   "name": "python3"
  },
  "language_info": {
   "codemirror_mode": {
    "name": "ipython",
    "version": 3
   },
   "file_extension": ".py",
   "mimetype": "text/x-python",
   "name": "python",
   "nbconvert_exporter": "python",
   "pygments_lexer": "ipython3",
   "version": "3.6.3"
  }
 },
 "nbformat": 4,
 "nbformat_minor": 2
}
