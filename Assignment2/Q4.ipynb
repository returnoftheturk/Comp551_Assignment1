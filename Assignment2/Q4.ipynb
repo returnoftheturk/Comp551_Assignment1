{
 "cells": [
  {
   "cell_type": "code",
   "execution_count": 30,
   "metadata": {
    "collapsed": true
   },
   "outputs": [],
   "source": [
    "%matplotlib inline\n",
    "import numpy as np\n",
    "import pandas as pd\n",
    "from mpl_toolkits.mplot3d import Axes3D\n",
    "import matplotlib.pyplot as plt\n",
    "from random import sample"
   ]
  },
  {
   "cell_type": "code",
   "execution_count": 2,
   "metadata": {
    "collapsed": true
   },
   "outputs": [],
   "source": [
    "def readCsv(fileName):\n",
    "    fullFileName = r'C:\\Users\\Owner\\McGill\\4thYear\\COMP551\\Assignments\\Assignment2\\Datasets\\DS' + fileName\n",
    "    df = pd.read_csv(fullFileName, encoding='utf-8', header = None,\n",
    "                 comment='#', sep=',')\n",
    "    \n",
    "    return df"
   ]
  },
  {
   "cell_type": "code",
   "execution_count": 3,
   "metadata": {
    "collapsed": true
   },
   "outputs": [],
   "source": [
    "def toCsv(fileName, npArray):\n",
    "    \n",
    "    fullFileName = r'C:\\Users\\Owner\\McGill\\4thYear\\COMP551\\Assignments\\Assignment2\\Datasets\\DS' + fileName\n",
    "    np.savetxt(fullFileName, npArray, delimiter=',')"
   ]
  },
  {
   "cell_type": "code",
   "execution_count": 6,
   "metadata": {
    "collapsed": true
   },
   "outputs": [],
   "source": [
    "def initializeDS2():\n",
    "    fullDistribution, distributionTest, distributionTrain = createData()\n",
    "    toCsv('2_train.csv', distributionTrain)\n",
    "    toCsv('2_test.csv', distributionTest)\n",
    "    toCsv('2.csv', fullDistribution)"
   ]
  },
  {
   "cell_type": "code",
   "execution_count": 51,
   "metadata": {},
   "outputs": [
    {
     "name": "stdout",
     "output_type": "stream",
     "text": [
      "[[ 1.60762496  0.42474927  0.17372381 ...,  2.45165398  0.91087311  1.        ]\n",
      " [ 3.73566626  5.63706338  2.85102118 ...,  3.88991504  2.00733537  0.        ]\n",
      " [-1.75879926 -5.32449662 -1.52813308 ..., -3.14248365  0.10512968  1.        ]\n",
      " ..., \n",
      " [ 1.61198706  2.04002002  2.77703328 ...,  1.83225709  2.34430549  1.        ]\n",
      " [ 0.45338446  1.32168418 -1.39182182 ...,  1.76171976 -0.99972878  1.        ]\n",
      " [ 1.27604273 -1.17541097 -0.11848384 ...,  0.32063789  0.21756137  1.        ]]\n",
      "[[ 1.60762496  0.42474927  0.17372381 ...,  2.45165398  0.91087311  1.        ]\n",
      " [ 3.73566626  5.63706338  2.85102118 ...,  3.88991504  2.00733537  0.        ]\n",
      " [-1.75879926 -5.32449662 -1.52813308 ..., -3.14248365  0.10512968  1.        ]\n",
      " ..., \n",
      " [-2.85026925  0.30882997 -2.75202213 ..., -2.03607528 -2.12023945  1.        ]\n",
      " [ 0.64056653  1.68057788  0.94081808 ...,  0.81681497  1.4852964   0.        ]\n",
      " [-0.49127089  1.31037526 -1.48470227 ..., -1.49817858 -0.68867439  0.        ]]\n",
      "[[ 5.05310993  5.80571178  2.31402114 ...,  5.33169888  2.4382584   0.        ]\n",
      " [ 1.46838882  4.26533718  0.25327618 ...,  5.06203318  0.34661802  1.        ]\n",
      " [ 3.76479676  2.66598438  2.6673555  ..., -0.22385512  2.07063241  1.        ]\n",
      " ..., \n",
      " [ 1.61198706  2.04002002  2.77703328 ...,  1.83225709  2.34430549  1.        ]\n",
      " [ 0.45338446  1.32168418 -1.39182182 ...,  1.76171976 -0.99972878  1.        ]\n",
      " [ 1.27604273 -1.17541097 -0.11848384 ...,  0.32063789  0.21756137  1.        ]]\n",
      "original (4000, 21)\n",
      "train (2800, 21)\n",
      "test (1200, 21)\n"
     ]
    },
    {
     "data": {
      "text/plain": [
       "(array([[ 1.60762496,  0.42474927,  0.17372381, ...,  2.45165398,\n",
       "          0.91087311,  1.        ],\n",
       "        [ 3.73566626,  5.63706338,  2.85102118, ...,  3.88991504,\n",
       "          2.00733537,  0.        ],\n",
       "        [-1.75879926, -5.32449662, -1.52813308, ..., -3.14248365,\n",
       "          0.10512968,  1.        ],\n",
       "        ..., \n",
       "        [ 1.61198706,  2.04002002,  2.77703328, ...,  1.83225709,\n",
       "          2.34430549,  1.        ],\n",
       "        [ 0.45338446,  1.32168418, -1.39182182, ...,  1.76171976,\n",
       "         -0.99972878,  1.        ],\n",
       "        [ 1.27604273, -1.17541097, -0.11848384, ...,  0.32063789,\n",
       "          0.21756137,  1.        ]]),\n",
       " array([[ 1.60762496,  0.42474927,  0.17372381, ...,  2.45165398,\n",
       "          0.91087311,  1.        ],\n",
       "        [ 3.73566626,  5.63706338,  2.85102118, ...,  3.88991504,\n",
       "          2.00733537,  0.        ],\n",
       "        [-1.75879926, -5.32449662, -1.52813308, ..., -3.14248365,\n",
       "          0.10512968,  1.        ],\n",
       "        ..., \n",
       "        [-2.85026925,  0.30882997, -2.75202213, ..., -2.03607528,\n",
       "         -2.12023945,  1.        ],\n",
       "        [ 0.64056653,  1.68057788,  0.94081808, ...,  0.81681497,\n",
       "          1.4852964 ,  0.        ],\n",
       "        [-0.49127089,  1.31037526, -1.48470227, ..., -1.49817858,\n",
       "         -0.68867439,  0.        ]]),\n",
       " array([[ 5.05310993,  5.80571178,  2.31402114, ...,  5.33169888,\n",
       "          2.4382584 ,  0.        ],\n",
       "        [ 1.46838882,  4.26533718,  0.25327618, ...,  5.06203318,\n",
       "          0.34661802,  1.        ],\n",
       "        [ 3.76479676,  2.66598438,  2.6673555 , ..., -0.22385512,\n",
       "          2.07063241,  1.        ],\n",
       "        ..., \n",
       "        [ 1.61198706,  2.04002002,  2.77703328, ...,  1.83225709,\n",
       "          2.34430549,  1.        ],\n",
       "        [ 0.45338446,  1.32168418, -1.39182182, ...,  1.76171976,\n",
       "         -0.99972878,  1.        ],\n",
       "        [ 1.27604273, -1.17541097, -0.11848384, ...,  0.32063789,\n",
       "          0.21756137,  1.        ]]))"
      ]
     },
     "execution_count": 51,
     "metadata": {},
     "output_type": "execute_result"
    }
   ],
   "source": [
    "def createData():\n",
    "    covC1 = readCsv('2_Cov1.csv').dropna(axis=1, how='all').as_matrix()\n",
    "    covC2 = readCsv('2_Cov2.csv').dropna(axis=1, how='all').as_matrix()\n",
    "    covC3 = readCsv('2_Cov3.csv').dropna(axis=1, how='all').as_matrix()\n",
    "    \n",
    "    meanPosC1 = readCsv('2_c1_m1.csv').dropna(axis=1, how='all').as_matrix()[0,:]\n",
    "    meanPosC2 = readCsv('2_c1_m2.csv').dropna(axis=1, how='all').as_matrix()[0,:]\n",
    "    meanPosC3 = readCsv('2_c1_m3.csv').dropna(axis=1, how='all').as_matrix()[0,:]\n",
    "    meanNegC1 = readCsv('2_c2_m1.csv').dropna(axis=1, how='all').as_matrix()[0,:]\n",
    "    meanNegC2 = readCsv('2_c2_m2.csv').dropna(axis=1, how='all').as_matrix()[0,:]\n",
    "    meanNegC3 = readCsv('2_c2_m3.csv').dropna(axis=1, how='all').as_matrix()[0,:]\n",
    "\n",
    "    distPosC1 = np.random.multivariate_normal(meanPosC1, covC1, 2000)\n",
    "    distPosC2 = np.random.multivariate_normal(meanPosC2, covC2, 2000)\n",
    "    distPosC3 = np.random.multivariate_normal(meanPosC3, covC3, 2000)\n",
    "    \n",
    "    distNegC1 = np.random.multivariate_normal(meanNegC1, covC1, 2000)\n",
    "    distNegC2 = np.random.multivariate_normal(meanNegC2, covC2, 2000)\n",
    "    distNegC3 = np.random.multivariate_normal(meanNegC3, covC3, 2000)\n",
    "    \n",
    "    distPosC1 = np.c_[distPosC1, np.ones(distPosC1.shape[0])]\n",
    "    distPosC2 = np.c_[distPosC2, np.ones(distPosC2.shape[0])]\n",
    "    distPosC3 = np.c_[distPosC3, np.ones(distPosC3.shape[0])]\n",
    "    distNegC1 = np.c_[distNegC1, np.zeros(distNegC1.shape[0])]\n",
    "    distNegC2 = np.c_[distNegC2, np.zeros(distNegC2.shape[0])]\n",
    "    distNegC3 = np.c_[distNegC3, np.zeros(distNegC3.shape[0])]\n",
    "        \n",
    "    np.random.shuffle(distPosC1)\n",
    "    np.random.shuffle(distPosC2)\n",
    "    np.random.shuffle(distPosC3)\n",
    "    np.random.shuffle(distNegC1)\n",
    "    np.random.shuffle(distNegC2)\n",
    "    np.random.shuffle(distNegC3)\n",
    " \n",
    "    distPos = list()\n",
    "    distNeg = list()\n",
    "    \n",
    "    for index, item in enumerate(np.random.randint(100, size = 2000)):\n",
    "        if (0<=item<10):\n",
    "            distPos.append(distPosC1[index,:])\n",
    "            distNeg.append(distNegC1[index,:])\n",
    "        elif (10<=item<52):\n",
    "            distPos.append(distPosC2[index,:])\n",
    "            distNeg.append(distNegC2[index,:])\n",
    "        elif (52<=item<100):\n",
    "            distPos.append(distPosC3[index,:])\n",
    "            distNeg.append(distNegC3[index,:])\n",
    "    distPos = np.array(distPos)\n",
    "    distNeg = np.array(distNeg)\n",
    "    \n",
    "    distribution = np.concatenate((distPos, distNeg), axis=0)\n",
    "    np.random.shuffle(distribution)\n",
    "    distributionTest = distribution[0:1200]\n",
    "    distributionTrain = distribution[1200:]\n",
    "    print(distribution)\n",
    "    print(distributionTest)\n",
    "    print(distributionTrain)\n",
    "    \n",
    "    print('original', distribution.shape)\n",
    "    print('train', distributionTrain.shape)\n",
    "    print('test', distributionTest.shape)\n",
    "\n",
    "    return (distribution, distributionTest, distributionTrain)\n",
    "\n",
    "createData()"
   ]
  },
  {
   "cell_type": "code",
   "execution_count": null,
   "metadata": {
    "collapsed": true
   },
   "outputs": [],
   "source": []
  }
 ],
 "metadata": {
  "kernelspec": {
   "display_name": "Python 3",
   "language": "python",
   "name": "python3"
  },
  "language_info": {
   "codemirror_mode": {
    "name": "ipython",
    "version": 3
   },
   "file_extension": ".py",
   "mimetype": "text/x-python",
   "name": "python",
   "nbconvert_exporter": "python",
   "pygments_lexer": "ipython3",
   "version": "3.6.3"
  }
 },
 "nbformat": 4,
 "nbformat_minor": 2
}
