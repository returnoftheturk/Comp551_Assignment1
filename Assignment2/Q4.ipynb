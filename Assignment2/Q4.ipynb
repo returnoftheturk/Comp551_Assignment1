{
 "cells": [
  {
   "cell_type": "code",
   "execution_count": 30,
   "metadata": {
    "collapsed": true
   },
   "outputs": [],
   "source": [
    "%matplotlib inline\n",
    "import numpy as np\n",
    "import pandas as pd\n",
    "from mpl_toolkits.mplot3d import Axes3D\n",
    "import matplotlib.pyplot as plt\n",
    "from random import sample"
   ]
  },
  {
   "cell_type": "code",
   "execution_count": 2,
   "metadata": {
    "collapsed": true
   },
   "outputs": [],
   "source": [
    "def readCsv(fileName):\n",
    "    fullFileName = r'C:\\Users\\Owner\\McGill\\4thYear\\COMP551\\Assignments\\Assignment2\\Datasets\\DS' + fileName\n",
    "    df = pd.read_csv(fullFileName, encoding='utf-8', header = None,\n",
    "                 comment='#', sep=',')\n",
    "    \n",
    "    return df"
   ]
  },
  {
   "cell_type": "code",
   "execution_count": 3,
   "metadata": {
    "collapsed": true
   },
   "outputs": [],
   "source": [
    "def toCsv(fileName, npArray):\n",
    "    \n",
    "    fullFileName = r'C:\\Users\\Owner\\McGill\\4thYear\\COMP551\\Assignments\\Assignment2\\Datasets\\DS' + fileName\n",
    "    np.savetxt(fullFileName, npArray, delimiter=',')"
   ]
  },
  {
   "cell_type": "code",
   "execution_count": 58,
   "metadata": {
    "collapsed": true
   },
   "outputs": [],
   "source": [
    "def initializeDS2():\n",
    "    fullDistribution, distributionTest, distributionTrain = createData()\n",
    "    toCsv('2_train.csv', distributionTrain)\n",
    "    toCsv('2_test.csv', distributionTest)\n",
    "    toCsv('2.csv', fullDistribution)\n",
    "# initializeDS2()"
   ]
  },
  {
   "cell_type": "code",
   "execution_count": 59,
   "metadata": {},
   "outputs": [],
   "source": [
    "def createData():\n",
    "    covC1 = readCsv('2_Cov1.csv').dropna(axis=1, how='all').as_matrix()\n",
    "    covC2 = readCsv('2_Cov2.csv').dropna(axis=1, how='all').as_matrix()\n",
    "    covC3 = readCsv('2_Cov3.csv').dropna(axis=1, how='all').as_matrix()\n",
    "    \n",
    "    meanPosC1 = readCsv('2_c1_m1.csv').dropna(axis=1, how='all').as_matrix()[0,:]\n",
    "    meanPosC2 = readCsv('2_c1_m2.csv').dropna(axis=1, how='all').as_matrix()[0,:]\n",
    "    meanPosC3 = readCsv('2_c1_m3.csv').dropna(axis=1, how='all').as_matrix()[0,:]\n",
    "    meanNegC1 = readCsv('2_c2_m1.csv').dropna(axis=1, how='all').as_matrix()[0,:]\n",
    "    meanNegC2 = readCsv('2_c2_m2.csv').dropna(axis=1, how='all').as_matrix()[0,:]\n",
    "    meanNegC3 = readCsv('2_c2_m3.csv').dropna(axis=1, how='all').as_matrix()[0,:]\n",
    "\n",
    "    distPosC1 = np.random.multivariate_normal(meanPosC1, covC1, 2000)\n",
    "    distPosC2 = np.random.multivariate_normal(meanPosC2, covC2, 2000)\n",
    "    distPosC3 = np.random.multivariate_normal(meanPosC3, covC3, 2000)\n",
    "    \n",
    "    distNegC1 = np.random.multivariate_normal(meanNegC1, covC1, 2000)\n",
    "    distNegC2 = np.random.multivariate_normal(meanNegC2, covC2, 2000)\n",
    "    distNegC3 = np.random.multivariate_normal(meanNegC3, covC3, 2000)\n",
    "    \n",
    "    distPosC1 = np.c_[distPosC1, np.ones(distPosC1.shape[0])]\n",
    "    distPosC2 = np.c_[distPosC2, np.ones(distPosC2.shape[0])]\n",
    "    distPosC3 = np.c_[distPosC3, np.ones(distPosC3.shape[0])]\n",
    "    distNegC1 = np.c_[distNegC1, np.zeros(distNegC1.shape[0])]\n",
    "    distNegC2 = np.c_[distNegC2, np.zeros(distNegC2.shape[0])]\n",
    "    distNegC3 = np.c_[distNegC3, np.zeros(distNegC3.shape[0])]\n",
    "        \n",
    "    np.random.shuffle(distPosC1)\n",
    "    np.random.shuffle(distPosC2)\n",
    "    np.random.shuffle(distPosC3)\n",
    "    np.random.shuffle(distNegC1)\n",
    "    np.random.shuffle(distNegC2)\n",
    "    np.random.shuffle(distNegC3)\n",
    " \n",
    "    distPos = list()\n",
    "    distNeg = list()\n",
    "    \n",
    "    for index, item in enumerate(np.random.randint(100, size = 2000)):\n",
    "        if (0<=item<10):\n",
    "            distPos.append(distPosC1[index,:])\n",
    "            distNeg.append(distNegC1[index,:])\n",
    "        elif (10<=item<52):\n",
    "            distPos.append(distPosC2[index,:])\n",
    "            distNeg.append(distNegC2[index,:])\n",
    "        elif (52<=item<100):\n",
    "            distPos.append(distPosC3[index,:])\n",
    "            distNeg.append(distNegC3[index,:])\n",
    "    distPos = np.array(distPos)\n",
    "    distNeg = np.array(distNeg)\n",
    "    \n",
    "    distribution = np.concatenate((distPos, distNeg), axis=0)\n",
    "    np.random.shuffle(distribution)\n",
    "    distributionTest = distribution[0:1200]\n",
    "    distributionTrain = distribution[1200:]\n",
    "\n",
    "    return (distribution, distributionTest, distributionTrain)\n",
    "\n",
    "# createData()"
   ]
  },
  {
   "cell_type": "code",
   "execution_count": null,
   "metadata": {
    "collapsed": true
   },
   "outputs": [],
   "source": []
  }
 ],
 "metadata": {
  "kernelspec": {
   "display_name": "Python 3",
   "language": "python",
   "name": "python3"
  },
  "language_info": {
   "codemirror_mode": {
    "name": "ipython",
    "version": 3
   },
   "file_extension": ".py",
   "mimetype": "text/x-python",
   "name": "python",
   "nbconvert_exporter": "python",
   "pygments_lexer": "ipython3",
   "version": "3.6.3"
  }
 },
 "nbformat": 4,
 "nbformat_minor": 2
}
