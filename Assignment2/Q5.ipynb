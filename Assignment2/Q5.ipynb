{
 "cells": [
  {
   "cell_type": "code",
   "execution_count": 26,
   "metadata": {
    "collapsed": true
   },
   "outputs": [],
   "source": [
    "%matplotlib inline\n",
    "import numpy as np\n",
    "import pandas as pd\n",
    "from mpl_toolkits.mplot3d import Axes3D\n",
    "import matplotlib.pyplot as plt\n",
    "from random import sample"
   ]
  },
  {
   "cell_type": "code",
   "execution_count": 27,
   "metadata": {
    "collapsed": true
   },
   "outputs": [],
   "source": [
    "def readCsv(fileName):\n",
    "    fullFileName = r'C:\\Users\\Owner\\McGill\\4thYear\\COMP551\\Assignments\\Assignment2\\Datasets\\DS' + fileName\n",
    "    df = pd.read_csv(fullFileName, encoding='utf-8', header = None,\n",
    "                 comment='#', sep=',')\n",
    "    \n",
    "    return df"
   ]
  },
  {
   "cell_type": "code",
   "execution_count": 28,
   "metadata": {},
   "outputs": [],
   "source": [
    "def runLDA(dfTrain):\n",
    "    N, N1, N2, pi, U1, U2 = np.zeros(6)\n",
    "    Y = dfTrain[20].as_matrix()\n",
    "    dfTrain = dfTrain.iloc[:,0:20]\n",
    "    S = np.zeros((20,20))\n",
    "    S1 = np.zeros((20,20))\n",
    "    S2 = np.zeros((20,20))\n",
    "    N = len(dfTrain)\n",
    "    N1 = np.count_nonzero(Y)\n",
    "    N2 = N - N1\n",
    "    pi = N1/N\n",
    "    \n",
    "    for i in range(0, len(dfTrain)):\n",
    "        U1 = U1 + Y[i]*dfTrain.iloc[i,:].as_matrix()\n",
    "        U2 = U2 + (1-Y[i])*dfTrain.iloc[i,:].as_matrix()\n",
    "    U1 = U1/N1\n",
    "    U2 = U2/N2\n",
    "    \n",
    "    for i in range(0, len(dfTrain)):\n",
    "        xSubMean = np.zeros(20)\n",
    "        if (Y[i]==1):\n",
    "            xSubMean = np.subtract(dfTrain.iloc[i,:].as_matrix(), U1)   \n",
    "            S1 = S1 + np.outer(xSubMean, xSubMean)\n",
    "        elif (Y[i]==0):\n",
    "            xSubMean = np.subtract(dfTrain.iloc[i,:].as_matrix(), U2)\n",
    "            S2 = S2 + np.outer(xSubMean, xSubMean)\n",
    "        \n",
    "    S = np.add(S1, S2)\n",
    "    S = np.divide(S, N)\n",
    "    return (U1, U2, pi, S)\n",
    "\n",
    "# runLDA()\n"
   ]
  },
  {
   "cell_type": "code",
   "execution_count": 30,
   "metadata": {},
   "outputs": [],
   "source": [
    "def linearDecisionBoundary(dfTrain):\n",
    "    U1, U2, pi, S = runLDA(dfTrain)\n",
    "    invS = np.linalg.inv(S)\n",
    "    w = np.dot(invS, np.subtract(U1, U2))\n",
    "    w0 = 0\n",
    "    w0 = np.divide(np.dot(U1.T, np.dot(invS, U1)), -2)\n",
    "    w0 = w0 + np.divide(np.dot(U2.T, np.dot(invS, U2)), 2)\n",
    "    w0 = w0 + np.log(pi/(1-pi))\n",
    "    \n",
    "#     print(w)\n",
    "    return (w, w0)"
   ]
  },
  {
   "cell_type": "code",
   "execution_count": 31,
   "metadata": {},
   "outputs": [],
   "source": [
    "def testData(dfTrain, dfTest):\n",
    "    w, w0 = linearDecisionBoundary(dfTrain)\n",
    "    Y = dfTest[20].as_matrix()\n",
    "    dfTest = dfTest.iloc[:,0:20]\n",
    "    classifier = 0\n",
    "#     print(w0)\n",
    "#     print(w)\n",
    "    truePositive, falsePositive, falseNegative = np.zeros(3)\n",
    "    for i in range(0, len(dfTest)):\n",
    "        probability = np.dot(w, dfTest.iloc[i,:].as_matrix()) + w0\n",
    "        if probability>=0:\n",
    "            if Y[i] == 1:\n",
    "                truePositive+=1\n",
    "            elif Y[i] == 0:\n",
    "                falsePositive+=1\n",
    "                \n",
    "        elif probability<0 and Y[i] == 1:\n",
    "            falseNegative+=1\n",
    "        \n",
    "    precision = truePositive/(truePositive+falsePositive)\n",
    "    recall = truePositive/(truePositive+falseNegative)\n",
    "    fMeasure = 2*precision*recall/(precision+recall)\n",
    "    print('Precision', precision)\n",
    "    print('Recall', recall)\n",
    "    print('F-Measure', fMeasure)\n"
   ]
  },
  {
   "cell_type": "code",
   "execution_count": 24,
   "metadata": {},
   "outputs": [
    {
     "name": "stdout",
     "output_type": "stream",
     "text": [
      "Precision 0.518115942029\n",
      "Recall 0.462035541195\n",
      "F-Measure 0.488471391973\n"
     ]
    }
   ],
   "source": [
    "testData(readCsv('2_train.csv'), readCsv('2_test.csv'))"
   ]
  },
  {
   "cell_type": "code",
   "execution_count": null,
   "metadata": {
    "collapsed": true
   },
   "outputs": [],
   "source": []
  }
 ],
 "metadata": {
  "kernelspec": {
   "display_name": "Python 3",
   "language": "python",
   "name": "python3"
  },
  "language_info": {
   "codemirror_mode": {
    "name": "ipython",
    "version": 3
   },
   "file_extension": ".py",
   "mimetype": "text/x-python",
   "name": "python",
   "nbconvert_exporter": "python",
   "pygments_lexer": "ipython3",
   "version": "3.6.3"
  }
 },
 "nbformat": 4,
 "nbformat_minor": 2
}
