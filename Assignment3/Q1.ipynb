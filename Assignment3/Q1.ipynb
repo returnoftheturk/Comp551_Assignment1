{
 "cells": [
  {
   "cell_type": "code",
   "execution_count": 1,
   "metadata": {
    "collapsed": true
   },
   "outputs": [],
   "source": [
    "%matplotlib inline\n",
    "import numpy as np\n",
    "import pandas as pd\n",
    "from mpl_toolkits.mplot3d import Axes3D\n",
    "import matplotlib.pyplot as plt\n",
    "from random import sample\n",
    "from collections import Counter\n",
    "import string"
   ]
  },
  {
   "cell_type": "code",
   "execution_count": 2,
   "metadata": {
    "collapsed": true
   },
   "outputs": [],
   "source": [
    "def readTxt(fileName):\n",
    "    fullFileName = r'C:\\Users\\Owner\\McGill\\4thYear\\COMP551\\Assignments\\Assignment3\\Datasets' + fileName\n",
    "    df = pd.read_csv(fullFileName, encoding='utf-8', header = None,\n",
    "                 sep='\\t')\n",
    "    \n",
    "    return df"
   ]
  },
  {
   "cell_type": "code",
   "execution_count": 3,
   "metadata": {},
   "outputs": [],
   "source": [
    "def readCsv(fileName):\n",
    "    fullFileName = r'C:\\Users\\Owner\\McGill\\4thYear\\COMP551\\Assignments\\Assignment3' + fileName\n",
    "    df = pd.read_csv(fullFileName, encoding='utf-8', header = None,\n",
    "                 sep=',')\n",
    "    \n",
    "    return df"
   ]
  },
  {
   "cell_type": "code",
   "execution_count": 59,
   "metadata": {
    "collapsed": true
   },
   "outputs": [],
   "source": [
    "def toCsvDf(fileName, df):\n",
    "    fullFileName = r'C:\\Users\\Owner\\McGill\\4thYear\\COMP551\\Assignments\\Assignment3\\Datasets' + fileName\n",
    "    df.to_csv(fullFileName, header = False, sep='\\t', index = False)"
   ]
  },
  {
   "cell_type": "code",
   "execution_count": 58,
   "metadata": {
    "collapsed": true
   },
   "outputs": [],
   "source": [
    "def toCsvNp(fileName, npArray):\n",
    "    fullFileName = r'C:\\Users\\Owner\\McGill\\4thYear\\COMP551\\Assignments\\Assignment3\\Datasets' + fileName\n",
    "    np.savetxt(fullFileName, npArray, delimiter=',')"
   ]
  },
  {
   "cell_type": "code",
   "execution_count": 115,
   "metadata": {},
   "outputs": [],
   "source": [
    "def createDictionary(trainingSet):\n",
    "    allWords = list()\n",
    "    cnt = Counter()\n",
    "    \n",
    "    if trainingSet=='IMDB':\n",
    "        trainingDF = readTxt('\\IMDB-train.txt')\n",
    "    elif trainingSet=='yelp':\n",
    "        trainingDF = readTxt('\\yelp-train.txt')\n",
    "        \n",
    "    translator = str.maketrans('','', string.punctuation)\n",
    "    \n",
    "    for i in range(0, len(trainingDF)):\n",
    "        allWords.extend(trainingDF.iloc[i,0].translate(translator).lower().split(\" \"))\n",
    "    \n",
    "    for word in allWords:\n",
    "        cnt[word] +=1\n",
    "\n",
    "    \n",
    "    \n",
    "    dictionaryWords = list(zip(*cnt.most_common(10000)))[0]\n",
    "    \n",
    "    dictionary = {}\n",
    "    for index, key in enumerate(dictionaryWords):\n",
    "        dictionary[key] = index\n",
    "#     print(dictionary)\n",
    "    newArray = np.asarray(cnt.most_common(10000))\n",
    "    withIndexVocabArray = np.insert(newArray, 1, range(0,10000),1)\n",
    "    \n",
    "#     if trainingSet=='IMDB':\n",
    "#         toCsvDf('\\IMDB-vocab.txt', pd.DataFrame(withIndexVocabArray))\n",
    "#     elif trainingSet=='yelp':\n",
    "#         toCsvDf('\\yelp-vocab.txt', pd.DataFrame(withIndexVocabArray))\n",
    "        \n",
    "    return dictionary"
   ]
  },
  {
   "cell_type": "code",
   "execution_count": 76,
   "metadata": {},
   "outputs": [],
   "source": [
    "def convertWordsToVector(trainingRow, dictionary):\n",
    "    translator = str.maketrans('','', string.punctuation)\n",
    "    returnRow = trainingRow.translate(translator).lower().split(\" \")\n",
    "    vector = np.zeros(10000, dtype=np.int8)\n",
    "    \n",
    "    for word in returnRow:\n",
    "        if word in dictionary:\n",
    "            vector[dictionary[word]] = np.int8(1)\n",
    "            \n",
    "    return vector"
   ]
  },
  {
   "cell_type": "code",
   "execution_count": 110,
   "metadata": {},
   "outputs": [],
   "source": [
    "# TODO: CHANGE DICTIONARY CREATION FROM ONLY IMDB TRAINING TO YELP TRAINING AS WELL\n",
    "def createBagOfWordsMatrix(df, dictionary):\n",
    "#     if trainingSet=='IMDB':\n",
    "#         trainingDF = readTxt('\\IMDB-train.txt')\n",
    "#     elif trainingSet=='yelp':\n",
    "#         trainingDF = readTxt('\\yelp-train.txt')\n",
    "\n",
    "    translator = str.maketrans('','', string.punctuation)\n",
    "    \n",
    "    distancesArray = np.zeros((len(df), len(dictionary)), dtype=np.int8)\n",
    "        \n",
    "    for i in range(0, len(df)):\n",
    "        vector = convertWordsToVector(df.iloc[i,0], dictionary)\n",
    "        distancesArray[i] = vector\n",
    "\n",
    "    return distancesArray\n",
    "# trainingDF = readTxt('\\IMDB-train.txt')\n",
    "# npArray = createBagOfWordsMatrix('IMDB')\n",
    "# print(npArray)\n",
    "# dfArray = pd.DataFrame(npArray)\n",
    "# dfArray.to_csv(r'C:\\Users\\Owner\\McGill\\4thYear\\COMP551\\Assignments\\Assignment3\\Datasets\\TESTING2.csv', header = False, sep=',', index = False)"
   ]
  },
  {
   "cell_type": "code",
   "execution_count": 124,
   "metadata": {},
   "outputs": [
    {
     "name": "stdout",
     "output_type": "stream",
     "text": [
      "IMDB Random Classifier Score\n",
      "F1 Score: 0.500559996804\n",
      "Confusion Matrix: [[6258 6242]\n",
      " [6244 6256]]\n",
      "IMDB Most Freq Classifier Score\n",
      "F1 Score: 0.333333333333\n",
      "Confusion Matrix: [[12500     0]\n",
      " [12500     0]]\n"
     ]
    },
    {
     "name": "stderr",
     "output_type": "stream",
     "text": [
      "C:\\Users\\Owner\\Anaconda3\\lib\\site-packages\\sklearn\\metrics\\classification.py:1135: UndefinedMetricWarning: F-score is ill-defined and being set to 0.0 in labels with no predicted samples.\n",
      "  'precision', 'predicted', average, warn_for)\n"
     ]
    },
    {
     "name": "stdout",
     "output_type": "stream",
     "text": [
      "yelp Random Classifier Score\n",
      "F1 Score: 0.183343733287\n",
      "Confusion Matrix: [[ 29  26  27  26  35]\n",
      " [ 39  42  40  37  32]\n",
      " [ 53  68  60  61  58]\n",
      " [135 137 145 144 141]\n",
      " [138 141 109 152 125]]\n",
      "yelp Most Freq Classifier Score\n",
      "F1 Score: 0.103923019985\n",
      "Confusion Matrix: [[  0   0   0 143   0]\n",
      " [  0   0   0 190   0]\n",
      " [  0   0   0 300   0]\n",
      " [  0   0   0 702   0]\n",
      " [  0   0   0 665   0]]\n"
     ]
    }
   ],
   "source": [
    "def baselineClassifier(dataset):\n",
    "    if dataset == 'yelp':\n",
    "        dictionary = createDictionary('yelp')\n",
    "        trainingDF = readTxt('\\yelp-train.txt')\n",
    "        validationDF = readTxt('\\yelp-valid.txt')\n",
    "        testDF = readTxt('\\yelp-test.txt')\n",
    "    elif dataset == 'IMDB':\n",
    "        dictionary = createDictionary('IMDB')\n",
    "        trainingDF = readTxt('\\IMDB-train.txt')\n",
    "        validationDF = readTxt('\\IMDB-valid.txt')\n",
    "        testDF = readTxt('\\IMDB-test.txt')\n",
    "    from sklearn.dummy import DummyClassifier\n",
    "    from numpy.random import random_integers\n",
    "    randomClassifier = DummyClassifier(strategy='uniform')\n",
    "    randomClassifier.fit(createBagOfWordsMatrix(trainingDF, dictionary), trainingDF[1])\n",
    "    predictionsArrayRandom = randomClassifier.predict(createBagOfWordsMatrix(testDF, dictionary))\n",
    "    print(dataset, 'Random Classifier Score')\n",
    "    testScores(predictionsArrayRandom, testDF[1])\n",
    "    majorityClassifier = DummyClassifier(strategy='most_frequent')\n",
    "    majorityClassifier.fit(createBagOfWordsMatrix(trainingDF, dictionary), trainingDF[1])\n",
    "    predictionsArrayMostFreq = majorityClassifier.predict(createBagOfWordsMatrix(testDF, dictionary))\n",
    "    print(dataset, 'Most Freq Classifier Score')\n",
    "    testScores(predictionsArrayMostFreq, testDF[1])\n",
    "    \n",
    "baselineClassifier('IMDB')\n",
    "baselineClassifier('yelp')"
   ]
  },
  {
   "cell_type": "code",
   "execution_count": 122,
   "metadata": {
    "collapsed": true
   },
   "outputs": [],
   "source": [
    "def testScores(predicted, actual):\n",
    "    from sklearn.metrics import f1_score\n",
    "    from sklearn.metrics import confusion_matrix\n",
    "    print('F1 Score:', f1_score(actual, predicted, average='macro'))\n",
    "    print('Confusion Matrix:', confusion_matrix(actual, predicted))"
   ]
  }
 ],
 "metadata": {
  "kernelspec": {
   "display_name": "Python 3",
   "language": "python",
   "name": "python3"
  },
  "language_info": {
   "codemirror_mode": {
    "name": "ipython",
    "version": 3
   },
   "file_extension": ".py",
   "mimetype": "text/x-python",
   "name": "python",
   "nbconvert_exporter": "python",
   "pygments_lexer": "ipython3",
   "version": "3.6.3"
  }
 },
 "nbformat": 4,
 "nbformat_minor": 2
}
