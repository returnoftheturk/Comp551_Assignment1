{
 "cells": [
  {
   "cell_type": "code",
   "execution_count": 1,
   "metadata": {
    "collapsed": true
   },
   "outputs": [],
   "source": [
    "%matplotlib inline\n",
    "import numpy as np\n",
    "import pandas as pd\n",
    "from mpl_toolkits.mplot3d import Axes3D\n",
    "import matplotlib.pyplot as plt\n",
    "from random import sample"
   ]
  },
  {
   "cell_type": "code",
   "execution_count": 10,
   "metadata": {
    "collapsed": true
   },
   "outputs": [],
   "source": [
    "def readTxt(fileName):\n",
    "    fullFileName = r'C:\\Users\\Owner\\McGill\\4thYear\\COMP551\\Assignments\\Assignment3\\Datasets' + fileName\n",
    "    df = pd.read_csv(fullFileName, encoding='utf-8', header = None,\n",
    "                 sep='\\t')\n",
    "    \n",
    "    return df"
   ]
  },
  {
   "cell_type": "code",
   "execution_count": 23,
   "metadata": {},
   "outputs": [
    {
     "data": {
      "text/plain": [
       "<bound method NDFrame.head of                                                      0  1\n",
       "0    I had a lot of fun playing this course today w...  4\n",
       "1    When I bought my house a year ago, it came wit...  2\n",
       "2    Finally a place to watch local sports with sou...  3\n",
       "3    OK, being from Wisconsin (the land of the \"gre...  5\n",
       "4    They must have renovated this place in the las...  4\n",
       "5    Wings in Buffalo aren't usually breaded. I can...  3\n",
       "6    Just like the other yogurt places for selectio...  3\n",
       "7    Like anyone else with good taste, I think this...  3\n",
       "8    I ate here on a Sunday afternoon and was impre...  4\n",
       "9    I love this place.You might ask \"why does the ...  5\n",
       "10         Good food, good service!  We go here a lot!  4\n",
       "11   This place does not disappoint.  I've been her...  5\n",
       "12   I read that the guy who owns GoDaddy shot an e...  4\n",
       "13   Very good food! We ate some shrimp tacos and m...  4\n",
       "14   I really like Maizie's, but unfortunately will...  4\n",
       "15   Hob Nob's Coffee House and Gourmet Deli is wha...  3\n",
       "16   I came in  on an early Friday morning to buy a...  3\n",
       "17   Very authentic Szechwan style restaurant.  On ...  4\n",
       "18   Family business bagel shops are my favorite.  ...  4\n",
       "19   I'm not gonna lie, I possibly had the best sun...  5\n",
       "20   They close earlier than most large book retail...  2\n",
       "21   We-Ko-Pa has been prominently listed as one of...  5\n",
       "22   This place was messy and loud.  The food reall...  1\n",
       "23   I have stayed at the Firesky on a few differen...  4\n",
       "24   In my opinion, there is nothing better than a ...  4\n",
       "25   True Food Kitchen claims to not be a health-fo...  4\n",
       "26   I don't have much time to write this, but I do...  5\n",
       "27   Angry Bro Bar !  Please go here if you wear si...  1\n",
       "28   I was working in the area and craving a health...  4\n",
       "29   These guys are great!I  Even though they speci...  5\n",
       "..                                                 ... ..\n",
       "970  i go to debon every 3 weeks for aki the hairdr...  5\n",
       "971  I expected better.The ambiance is pleasant.  I...  2\n",
       "972  I used to frequent Homme for Tuesday night kar...  4\n",
       "973  It doesn't matter which location you go to, it...  5\n",
       "974  We were exceptionally sun deprived by the time...  4\n",
       "975  Outstanding customer service!!! Great camping ...  5\n",
       "976  This place is a freaking joke. Expect an overc...  1\n",
       "977     Very friendly but need to work on the bathroom  4\n",
       "978  I was severely mislead by Frank A's, \"It's hot...  1\n",
       "979  Cool place in downtown!  I've been to all of t...  4\n",
       "980  We ordered $40 worth of pizza for takeout and ...  1\n",
       "981  Such good sandwiches! The meat is cut fresh ju...  4\n",
       "982           Gross, tasteless food.  Good margaritas.  2\n",
       "983  the owner was dishonest, she posted a menu out...  1\n",
       "984  This wasn't the first time, but we went to Tut...  5\n",
       "985  Two stars because there isnt a drive thru.. an...  3\n",
       "986  RUDE RUDE RUDEI wanted to book a diner for my ...  1\n",
       "987  I must hand it to them at Olive and Ivy! First...  5\n",
       "988  If you love BBQ, this place is for you.  Nosta...  4\n",
       "989  Tried this place for weekday lunch.  We arrive...  4\n",
       "990  This place is pretty good for a chain, and it'...  3\n",
       "991  had lunch here today outside with the girlfrie...  4\n",
       "992  Lunch here is delicious and well worth it.  Di...  3\n",
       "993  I love this second location in the Royal coffe...  5\n",
       "994  Great food, fresh crispy veggies, excellent se...  4\n",
       "995  This place has consistently good food on EVERY...  4\n",
       "996  Although I am limiting meat in my diet, I went...  4\n",
       "997  AAAAMAZING.They have the best hot dogs and cor...  5\n",
       "998  First time here, new favorite. You can create ...  5\n",
       "999  I found this place based on Yelp reviews so I ...  5\n",
       "\n",
       "[1000 rows x 2 columns]>"
      ]
     },
     "execution_count": 23,
     "metadata": {},
     "output_type": "execute_result"
    }
   ],
   "source": [
    "toCsv('\\IMDB-train.csv', readTxt('\\IMDB-train.txt'))\n",
    "toCsv('\\IMDB-test.csv', readTxt('\\IMDB-test.txt'))\n",
    "toCsv('\\IMDB-valid.csv', readTxt('\\IMDB-valid.txt'))\n",
    "toCsv('\\yelp-train.csv', readTxt('\\yelp-train.txt'))\n",
    "toCsv('\\yelp-test.csv', readTxt('\\yelp-test.txt'))\n",
    "toCsv('\\yelp-valid.csv', readTxt('\\yelp-valid.txt'))\n",
    "\n",
    "df = readTxt('\\IMDB-valid.txt')\n",
    "df = readTxt('\\yelp-train.txt')\n",
    "df = readTxt('\\yelp-test.txt')\n",
    "df = readTxt('\\yelp-valid.txt')\n",
    "\n",
    "df.head"
   ]
  },
  {
   "cell_type": "code",
   "execution_count": 22,
   "metadata": {
    "collapsed": true
   },
   "outputs": [],
   "source": [
    "def toCsv(fileName, df):\n",
    "    \n",
    "    fullFileName = r'C:\\Users\\Owner\\McGill\\4thYear\\COMP551\\Assignments\\Assignment3\\Datasets' + fileName\n",
    "    df.to_csv(fullFileName, header = False, index = False)"
   ]
  },
  {
   "cell_type": "code",
   "execution_count": null,
   "metadata": {
    "collapsed": true
   },
   "outputs": [],
   "source": []
  }
 ],
 "metadata": {
  "kernelspec": {
   "display_name": "Python 3",
   "language": "python",
   "name": "python3"
  },
  "language_info": {
   "codemirror_mode": {
    "name": "ipython",
    "version": 3
   },
   "file_extension": ".py",
   "mimetype": "text/x-python",
   "name": "python",
   "nbconvert_exporter": "python",
   "pygments_lexer": "ipython3",
   "version": "3.6.3"
  }
 },
 "nbformat": 4,
 "nbformat_minor": 2
}
