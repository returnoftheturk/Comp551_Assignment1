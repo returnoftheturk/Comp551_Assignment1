{
 "cells": [
  {
   "cell_type": "code",
   "execution_count": 27,
   "metadata": {
    "collapsed": true
   },
   "outputs": [],
   "source": [
    "%matplotlib inline\n",
    "import numpy as np\n",
    "import pandas as pd\n",
    "from mpl_toolkits.mplot3d import Axes3D\n",
    "import matplotlib.pyplot as plt\n",
    "from random import sample\n",
    "from collections import Counter\n",
    "import string\n",
    "from sklearn.dummy import DummyClassifier\n",
    "from numpy.random import random_integers\n",
    "from sklearn.metrics import f1_score\n",
    "from sklearn.metrics import confusion_matrix\n",
    "from sklearn.naive_bayes import BernoulliNB\n",
    "from sklearn import tree\n",
    "from sklearn.svm import LinearSVC\n",
    "from sklearn.model_selection import GridSearchCV\n",
    "from sklearn.model_selection import RandomizedSearchCV\n",
    "from scipy.stats import randint as sp_randint\n",
    "from scipy.stats import uniform as sp_uniform"
   ]
  },
  {
   "cell_type": "code",
   "execution_count": 2,
   "metadata": {
    "collapsed": true
   },
   "outputs": [],
   "source": [
    "def readTxt(fileName):\n",
    "    fullFileName = r'C:\\Users\\Owner\\McGill\\4thYear\\COMP551\\Assignments\\Assignment3\\Datasets' + fileName\n",
    "    df = pd.read_csv(fullFileName, encoding='utf-8', header = None,\n",
    "                 sep='\\t')\n",
    "    \n",
    "    return df"
   ]
  },
  {
   "cell_type": "code",
   "execution_count": 3,
   "metadata": {
    "collapsed": true
   },
   "outputs": [],
   "source": [
    "def readCsv(fileName):\n",
    "    fullFileName = r'C:\\Users\\Owner\\McGill\\4thYear\\COMP551\\Assignments\\Assignment3' + fileName\n",
    "    df = pd.read_csv(fullFileName, encoding='utf-8', header = None,\n",
    "                 sep=',')\n",
    "    \n",
    "    return df"
   ]
  },
  {
   "cell_type": "code",
   "execution_count": 4,
   "metadata": {
    "collapsed": true
   },
   "outputs": [],
   "source": [
    "def toCsvDf(fileName, df):\n",
    "    fullFileName = r'C:\\Users\\Owner\\McGill\\4thYear\\COMP551\\Assignments\\Assignment3\\Datasets' + fileName\n",
    "    df.to_csv(fullFileName, header = False, sep='\\t', index = False)"
   ]
  },
  {
   "cell_type": "code",
   "execution_count": 5,
   "metadata": {
    "collapsed": true
   },
   "outputs": [],
   "source": [
    "def toCsvNp(fileName, npArray):\n",
    "    fullFileName = r'C:\\Users\\Owner\\McGill\\4thYear\\COMP551\\Assignments\\Assignment3\\Datasets' + fileName\n",
    "    np.savetxt(fullFileName, npArray, delimiter=',')"
   ]
  },
  {
   "cell_type": "code",
   "execution_count": 6,
   "metadata": {
    "scrolled": false
   },
   "outputs": [],
   "source": [
    "def createDictionary(trainingSet):\n",
    "    allWords = list()\n",
    "    cnt = Counter()\n",
    "    \n",
    "    if trainingSet=='IMDB':\n",
    "        trainingDF = readTxt('\\IMDB-train.txt')\n",
    "    elif trainingSet=='yelp':\n",
    "        trainingDF = readTxt('\\yelp-train.txt')\n",
    "    \n",
    "# Replacing !\"#$%&()*+,-./:;<=>?@[\\]^_`{|}~ with ' ' * 31 (31 spaces, needs to be same length)\n",
    "# and replacing ' with ' ' (apostrophe with space)\n",
    "    translator = str.maketrans(string.punctuation.replace('\\'', ''), 31*' ', '\\'')\n",
    "    \n",
    "    for i in range(0, len(trainingDF)):\n",
    "        allWords.extend(trainingDF.iloc[i,0].translate(translator).lower().split(\" \"))\n",
    "    \n",
    "    for word in allWords:\n",
    "        cnt[word] +=1\n",
    "    \n",
    "    dictionaryWords = list(zip(*cnt.most_common(10001)[1:]))[0]\n",
    "    \n",
    "    dictionary = {}\n",
    "    for index, key in enumerate(dictionaryWords):\n",
    "        dictionary[key] = index\n",
    "#     print(dictionary)\n",
    "    newArray = np.asarray(cnt.most_common(10001)[1:])\n",
    "    withIndexVocabArray = np.insert(newArray, 1, range(0,10000),1)\n",
    "    \n",
    "#     if trainingSet=='IMDB':\n",
    "#         toCsvDf('\\IMDB-vocab.txt', pd.DataFrame(withIndexVocabArray))\n",
    "#     elif trainingSet=='yelp':\n",
    "#         toCsvDf('\\yelp-vocab.txt', pd.DataFrame(withIndexVocabArray))\n",
    "        \n",
    "    return dictionary\n",
    "# createDictionary('yelp')"
   ]
  },
  {
   "cell_type": "code",
   "execution_count": 7,
   "metadata": {
    "collapsed": true
   },
   "outputs": [],
   "source": [
    "def convertWordsToVector(trainingRow, dictionary, BOWType):\n",
    "    translator = str.maketrans(string.punctuation.replace('\\'', ''), 31*' ', '\\'')\n",
    "    returnRow = trainingRow.translate(translator).lower().split(\" \")\n",
    "    vector = np.zeros(10000, dtype = np.int8)\n",
    "    \n",
    "    for word in returnRow:\n",
    "        if word in dictionary:\n",
    "            if BOWType == 'BagOfWords':\n",
    "                vector[dictionary[word]] = np.int8(1)\n",
    "            elif BOWType == 'Frequency':\n",
    "                vector[dictionary[word]] += 1\n",
    "    \n",
    "    if BOWType == 'Frequency':\n",
    "#         To accomodate for the fact that one of the rows has one word, d-gust-ing, and the lenght of the vector is zero.\n",
    "#         Hence, the vector returns [Nan Nan Nan ... Nan Nan].  Now it returns [0 0 0 ... 0 0 0]\n",
    "        vectorLength =  np.sum(vector)\n",
    "        if vectorLength>0:\n",
    "            vector = np.divide(vector, vectorLength)\n",
    "            \n",
    "    return vector"
   ]
  },
  {
   "cell_type": "code",
   "execution_count": 8,
   "metadata": {},
   "outputs": [],
   "source": [
    "def createBagOfWordsMatrix(df, dictionary, BOWType):\n",
    "    translator = str.maketrans(string.punctuation.replace('\\'', ''), 31*' ', '\\'')\n",
    "    \n",
    "    if BOWType == 'BagOfWords':\n",
    "        distancesArray = np.zeros((len(df), len(dictionary)), dtype = np.int8)\n",
    "    elif BOWType == 'Frequency':\n",
    "        distancesArray = np.zeros((len(df), len(dictionary)))\n",
    "        \n",
    "    for i in range(0, len(df)):\n",
    "        vector = convertWordsToVector(df.iloc[i,0], dictionary, BOWType)\n",
    "        distancesArray[i] = vector\n",
    "        \n",
    "    return distancesArray\n",
    "\n",
    "# print(createBagOfWordsMatrix(readTxt('\\yelp-train.txt'), createDictionary('yelp'), 'Frequency'))"
   ]
  },
  {
   "cell_type": "code",
   "execution_count": 9,
   "metadata": {},
   "outputs": [],
   "source": [
    "def createReviewsTxt(df, dictionary):\n",
    "    translator = str.maketrans(string.punctuation.replace('\\'', ''), 31*' ', '\\'')\n",
    "    reviewsList = list()\n",
    "    targets = df.iloc[:,1]\n",
    "    \n",
    "    for i in range(0, len(df)):\n",
    "        reviewsString = ''\n",
    "        trainingRow = df.iloc[i,0].translate(translator).lower().split(\" \")\n",
    "        for word in trainingRow:\n",
    "            if word in dictionary:\n",
    "                reviewsString += str(dictionary[word]) + ' ' \n",
    "        reviewsList.append(reviewsString)\n",
    "\n",
    "    outputDF = pd.DataFrame(list(zip(reviewsList, targets)))\n",
    "    toCsvDf('\\submit\\yelp-valid.txt', outputDF)\n",
    "    \n",
    "    return outputDF"
   ]
  },
  {
   "cell_type": "code",
   "execution_count": 10,
   "metadata": {
    "collapsed": true
   },
   "outputs": [],
   "source": [
    "def testScores(predicted, actual):\n",
    "    f1Score = f1_score(actual, predicted, average='macro')\n",
    "    confusionMatrix = confusion_matrix(actual, predicted)\n",
    "#     print('F1 Score:', f1Score)\n",
    "#     print('Confusion Matrix:\\n', confusionMatrix)\n",
    "    return f1Score"
   ]
  },
  {
   "cell_type": "code",
   "execution_count": 12,
   "metadata": {},
   "outputs": [
    {
     "name": "stdout",
     "output_type": "stream",
     "text": [
      "yelp Random Classifier\n",
      "Training F1-Measure\n",
      "F1 Score: 0.183122541015\n",
      "Confusion Matrix:\n",
      " [[106  97 104 100 115]\n",
      " [138 122 122 126 133]\n",
      " [218 197 189 206 187]\n",
      " [481 523 505 499 460]\n",
      " [468 471 453 471 509]]\n",
      "Validation F1-Measure\n",
      "F1 Score: 0.164518735472\n",
      "Confusion Matrix:\n",
      " [[20 13 17 16 18]\n",
      " [26 14 18 20 18]\n",
      " [32 36 30 27 39]\n",
      " [64 80 68 68 76]\n",
      " [53 70 63 70 44]]\n",
      "Test F1-Measure\n",
      "F1 Score: 0.183332477751\n",
      "Confusion Matrix:\n",
      " [[ 24  29  27  34  29]\n",
      " [ 41  39  41  43  26]\n",
      " [ 55  52  73  58  62]\n",
      " [152 138 145 130 137]\n",
      " [124 132 119 156 134]]\n"
     ]
    }
   ],
   "source": [
    "def randomClassifier(dataset, BOWType):\n",
    "    print(dataset, 'Random Classifier')\n",
    "    if dataset == 'yelp':\n",
    "        dictionary = createDictionary('yelp')\n",
    "        trainingDF = readTxt('\\yelp-train.txt')\n",
    "        validDF = readTxt('\\yelp-valid.txt')\n",
    "        testDF = readTxt('\\yelp-test.txt')\n",
    "    elif dataset == 'IMDB':\n",
    "        dictionary = createDictionary('IMDB')\n",
    "        trainingDF = readTxt('\\IMDB-train.txt')\n",
    "        validDF = readTxt('\\IMDB-valid.txt')\n",
    "        testDF = readTxt('\\IMDB-test.txt')\n",
    "    \n",
    "    randomClassifier = DummyClassifier(strategy='uniform')\n",
    "    randomClassifier.fit(createBagOfWordsMatrix(trainingDF, dictionary, BOWType), trainingDF[1])\n",
    "    \n",
    "    print('Training F1-Measure')\n",
    "    predictionsArray = randomClassifier.predict(createBagOfWordsMatrix(trainingDF, dictionary, BOWType))\n",
    "    testScores(predictionsArray, trainingDF[1])\n",
    "    \n",
    "    print('Validation F1-Measure')\n",
    "    predictionsArray = randomClassifier.predict(createBagOfWordsMatrix(validDF, dictionary, BOWType))\n",
    "    testScores(predictionsArray, validDF[1])\n",
    "    \n",
    "    print('Test F1-Measure')\n",
    "    predictionsArray = randomClassifier.predict(createBagOfWordsMatrix(testDF, dictionary, BOWType))\n",
    "    testScores(predictionsArray, testDF[1])\n",
    "    \n",
    "randomClassifier('yelp', 'BagOfWords')"
   ]
  },
  {
   "cell_type": "code",
   "execution_count": 14,
   "metadata": {},
   "outputs": [
    {
     "name": "stdout",
     "output_type": "stream",
     "text": [
      "yelp Majority Classifier\n",
      "Training F1-Measure\n"
     ]
    },
    {
     "name": "stderr",
     "output_type": "stream",
     "text": [
      "C:\\Users\\Owner\\Anaconda3\\lib\\site-packages\\sklearn\\metrics\\classification.py:1135: UndefinedMetricWarning: F-score is ill-defined and being set to 0.0 in labels with no predicted samples.\n",
      "  'precision', 'predicted', average, warn_for)\n"
     ]
    },
    {
     "name": "stdout",
     "output_type": "stream",
     "text": [
      "F1 Score: 0.104267004647\n",
      "Confusion Matrix:\n",
      " [[   0    0    0  522    0]\n",
      " [   0    0    0  641    0]\n",
      " [   0    0    0  997    0]\n",
      " [   0    0    0 2468    0]\n",
      " [   0    0    0 2372    0]]\n",
      "Validation F1-Measure\n",
      "F1 Score: 0.105014749263\n",
      "Confusion Matrix:\n",
      " [[  0   0   0  84   0]\n",
      " [  0   0   0  96   0]\n",
      " [  0   0   0 164   0]\n",
      " [  0   0   0 356   0]\n",
      " [  0   0   0 300   0]]\n",
      "Test F1-Measure\n",
      "F1 Score: 0.103923019985\n",
      "Confusion Matrix:\n",
      " [[  0   0   0 143   0]\n",
      " [  0   0   0 190   0]\n",
      " [  0   0   0 300   0]\n",
      " [  0   0   0 702   0]\n",
      " [  0   0   0 665   0]]\n"
     ]
    }
   ],
   "source": [
    "def majorityClassifier(dataset, BOWType):\n",
    "    print(dataset, 'Majority Classifier')\n",
    "    if dataset == 'yelp':\n",
    "        dictionary = createDictionary('yelp')\n",
    "        trainingDF = readTxt('\\yelp-train.txt')\n",
    "        validDF = readTxt('\\yelp-valid.txt')\n",
    "        testDF = readTxt('\\yelp-test.txt')\n",
    "    elif dataset == 'IMDB':\n",
    "        dictionary = createDictionary('IMDB')\n",
    "        trainingDF = readTxt('\\IMDB-train.txt')\n",
    "        validDF = readTxt('\\IMDB-valid.txt')\n",
    "        testDF = readTxt('\\IMDB-test.txt')\n",
    "    \n",
    "    majorityClassifier = DummyClassifier(strategy='most_frequent')\n",
    "    majorityClassifier.fit(createBagOfWordsMatrix(trainingDF, dictionary, BOWType), trainingDF[1])\n",
    "    \n",
    "    print('Training F1-Measure')\n",
    "    predictionsArray = majorityClassifier.predict(createBagOfWordsMatrix(trainingDF, dictionary, BOWType))\n",
    "    testScores(predictionsArray, trainingDF[1])\n",
    "    \n",
    "    print('Validation F1-Measure')\n",
    "    predictionsArray = majorityClassifier.predict(createBagOfWordsMatrix(validDF, dictionary, BOWType))\n",
    "    testScores(predictionsArray, validDF[1])\n",
    "    \n",
    "    print('Test F1-Measure')\n",
    "    predictionsArray = majorityClassifier.predict(createBagOfWordsMatrix(testDF, dictionary, BOWType))\n",
    "    testScores(predictionsArray, testDF[1])\n",
    "    \n",
    "# baselineClassifier('IMDB')\n",
    "majorityClassifier('yelp', 'BagOfWords')"
   ]
  },
  {
   "cell_type": "code",
   "execution_count": 38,
   "metadata": {},
   "outputs": [
    {
     "name": "stdout",
     "output_type": "stream",
     "text": [
      "yelp\n",
      "{'alpha': 1.0, 'binarize': 0.0, 'class_prior': None, 'fit_prior': True}\n",
      "Training F1-Measure\n",
      "Validation F1-Measure\n",
      "Test F1-Measure\n"
     ]
    }
   ],
   "source": [
    "def bernoulliNB(dataset, BOWType):\n",
    "    print(dataset)\n",
    "    if dataset == 'yelp':\n",
    "        dictionary = createDictionary('yelp')\n",
    "        trainingDF = readTxt('\\yelp-train.txt')\n",
    "        validDF = readTxt('\\yelp-valid.txt')\n",
    "        testDF = readTxt('\\yelp-test.txt')\n",
    "    elif dataset == 'IMDB':\n",
    "        dictionary = createDictionary('IMDB')\n",
    "        trainingDF = readTxt('\\IMDB-train.txt')\n",
    "        validDF = readTxt('\\IMDB-valid.txt')\n",
    "        testDF = readTxt('\\IMDB-test.txt')\n",
    "        \n",
    "    clf = BernoulliNB()\n",
    "    print(clf.get_params())\n",
    "    clf.fit(createBagOfWordsMatrix(trainingDF, dictionary, BOWType), trainingDF[1])\n",
    "    \n",
    "    print('Training F1-Measure')\n",
    "    predictionsArray = clf.predict(createBagOfWordsMatrix(trainingDF, dictionary, BOWType))\n",
    "    testScores(predictionsArray, trainingDF[1])\n",
    "    \n",
    "    print('Validation F1-Measure')\n",
    "    predictionsArray = clf.predict(createBagOfWordsMatrix(validDF, dictionary, BOWType))\n",
    "    testScores(predictionsArray, validDF[1])\n",
    "    \n",
    "    print('Test F1-Measure')\n",
    "    predictionsArray = clf.predict(createBagOfWordsMatrix(testDF, dictionary, BOWType))\n",
    "    testScores(predictionsArray, testDF[1])\n",
    "    \n",
    "bernoulliNB('yelp', 'BagOfWords')"
   ]
  },
  {
   "cell_type": "code",
   "execution_count": 30,
   "metadata": {},
   "outputs": [
    {
     "name": "stdout",
     "output_type": "stream",
     "text": [
      "yelp\n"
     ]
    },
    {
     "data": {
      "image/png": "[encoded data removed]",
      "text/plain": [
       "<matplotlib.figure.Figure at 0x237642c5390>"
      ]
     },
     "metadata": {},
     "output_type": "display_data"
    },
    {
     "name": "stdout",
     "output_type": "stream",
     "text": [
      "Best Alpha for F1-Measure  0.0818189090909\n",
      "MAX F1-Measure  0.375289839258\n",
      "F1 Score for Testing at Alpha = 0.0818189090909091 is 0.38725580913826974\n"
     ]
    },
    {
     "data": {
      "text/plain": [
       "0.081818909090909095"
      ]
     },
     "execution_count": 30,
     "metadata": {},
     "output_type": "execute_result"
    }
   ],
   "source": [
    "def iterateBernoulliNB(dataset, BOWType):\n",
    "    print(dataset)\n",
    "    if dataset == 'yelp':\n",
    "        dictionary = createDictionary('yelp')\n",
    "        trainingDF = readTxt('\\yelp-train.txt')\n",
    "        validDF = readTxt('\\yelp-valid.txt')\n",
    "        testDF = readTxt('\\yelp-test.txt')\n",
    "    elif dataset == 'IMDB':\n",
    "        dictionary = createDictionary('IMDB')\n",
    "        trainingDF = readTxt('\\IMDB-train.txt')\n",
    "        validDF = readTxt('\\IMDB-valid.txt')\n",
    "        testDF = readTxt('\\IMDB-test.txt')\n",
    "    \n",
    "    trainingDataMatrix = createBagOfWordsMatrix(trainingDF, dictionary, BOWType)\n",
    "    validDataMatrix = createBagOfWordsMatrix(validDF, dictionary, BOWType)\n",
    "    testDataMatrix = createBagOfWordsMatrix(testDF, dictionary, BOWType)\n",
    "    targetVectorTraining = trainingDF[1]\n",
    "    targetVectorValid = validDF[1]\n",
    "    targetVectorTest = testDF[1]\n",
    "    \n",
    "    alphaLinspace = np.linspace(0.000001, 0.3, 100)\n",
    "    f1Scores = list()\n",
    "    \n",
    "#     tuning parameters with validation set\n",
    "    for alpha in alphaLinspace:\n",
    "        clf = BernoulliNB(alpha = alpha)\n",
    "        clf.fit(trainingDataMatrix, targetVectorTraining)\n",
    "        predictionsArray = clf.predict(validDataMatrix)\n",
    "        f1Score = testScores(predictionsArray, targetVectorValid)\n",
    "#         print(f1Score)\n",
    "        f1Scores.append(f1Score)\n",
    "    \n",
    "    plt.figure(figsize=(20,8), dpi=80)\n",
    "    plt.plot(alphaLinspace, f1Scores)\n",
    "    plt.axvline(x=alphaLinspace[np.argmax(f1Scores)],linestyle='dashed')\n",
    "    plt.xlabel('Alpha')\n",
    "    plt.ylabel('F1-Measure')\n",
    "    plt.title('F1-Measure Validation')\n",
    "    plt.show()\n",
    "\n",
    "    bestF1Alpha = alphaLinspace[np.argmax(f1Scores)]\n",
    "    print('Best Alpha for F1-Measure ', bestF1Alpha)\n",
    "    print('MAX F1-Measure ', max(f1Scores))\n",
    "    \n",
    "#     final Test F1-Measure\n",
    "    \n",
    "    clf = BernoulliNB(alpha = bestF1Alpha)\n",
    "    clf.fit(trainingDataMatrix, targetVectorTraining)\n",
    "    testPredictionsArray = clf.predict(testDataMatrix)\n",
    "    testF1Score = testScores(testPredictionsArray, targetVectorTest)\n",
    "    print('F1 Score for Testing at Alpha = {0} is {1}'.format(bestF1Alpha, testF1Score))\n",
    "    \n",
    "    return alphaLinspace[np.argmax(f1Scores)]\n",
    "\n",
    "    \n",
    "        \n",
    "iterateBernoulliNB('yelp', 'BagOfWords')"
   ]
  },
  {
   "cell_type": "code",
   "execution_count": 63,
   "metadata": {
    "collapsed": true
   },
   "outputs": [],
   "source": [
    "def report(results, n_top=3):\n",
    "    for i in range(1, n_top + 1):\n",
    "        candidates = np.flatnonzero(results['rank_test_score'] == i)\n",
    "        for candidate in candidates:\n",
    "            print(\"Model with rank: {0}\".format(i))\n",
    "            print(\"Mean validation score: {0:.3f} (std: {1:.3f})\".format(\n",
    "                  results['mean_test_score'][candidate],\n",
    "                  results['std_test_score'][candidate]))\n",
    "            print(\"Parameters: {0}\".format(results['params'][candidate]))\n",
    "            print(\"\")"
   ]
  },
  {
   "cell_type": "code",
   "execution_count": null,
   "metadata": {},
   "outputs": [
    {
     "name": "stdout",
     "output_type": "stream",
     "text": [
      "yelp\n"
     ]
    }
   ],
   "source": [
    "def iterateLinearSVC(dataset, BOWType):\n",
    "    print(dataset)\n",
    "    if dataset == 'yelp':\n",
    "        dictionary = createDictionary('yelp')\n",
    "        trainingDF = readTxt('\\yelp-train.txt')\n",
    "        validDF = readTxt('\\yelp-valid.txt')\n",
    "        testDF = readTxt('\\yelp-test.txt')\n",
    "    elif dataset == 'IMDB':\n",
    "        dictionary = createDictionary('IMDB')\n",
    "        trainingDF = readTxt('\\IMDB-train.txt')\n",
    "        validDF = readTxt('\\IMDB-valid.txt')\n",
    "        testDF = readTxt('\\IMDB-test.txt')\n",
    "    \n",
    "    trainingDataMatrix = createBagOfWordsMatrix(trainingDF, dictionary, BOWType)\n",
    "    validDataMatrix = createBagOfWordsMatrix(validDF, dictionary, BOWType)\n",
    "    testDataMatrix = createBagOfWordsMatrix(testDF, dictionary, BOWType)\n",
    "    targetVectorTraining = trainingDF[1]\n",
    "    targetVectorValid = validDF[1]\n",
    "    targetVectorTest = testDF[1]\n",
    "    \n",
    "    appendedMatrices = np.append(trainingDataMatrix, validDataMatrix, axis = 0)\n",
    "    appendedTarget = targetVectorTraining.append(targetVectorValid, ignore_index = True)\n",
    "    \n",
    "    n_iter_search = 60\n",
    "    param_dist = {\"tol\": [1e-6, 1e-5, 1e-4, 1e-3,1e-2,1e-1], \"C\":[0.01, 0.1, 1.0, 10, 100, 1000], \"max_iter\":sp_randint(1000,10000)}\n",
    "#     param_dist = {\"loss\":['squared_hinge', 'hinge'], \"dual\":[True], \"tol\": [1e-3,1e-2,1e-4], \"C\":[1.0, 0.1, 0.01, 10]}\n",
    "    \n",
    "    clf = LinearSVC()\n",
    "    \n",
    "    random_search = RandomizedSearchCV(clf, param_distributions=param_dist, n_iter = n_iter_search, n_jobs=2)\n",
    "#     random_search = GridSearchCV(clf, param_grid=param_dist)\n",
    "    random_search.fit(appendedMatrices, appendedTarget)\n",
    "    \n",
    "    report(random_search.cv_results_)\n",
    "    \n",
    "        \n",
    "iterateLinearSVC('yelp', 'BagOfWords')"
   ]
  },
  {
   "cell_type": "code",
   "execution_count": 14,
   "metadata": {},
   "outputs": [
    {
     "name": "stdout",
     "output_type": "stream",
     "text": [
      "yelp\n",
      "Training F1-Measure\n",
      "F1 Score: 1.0\n",
      "Confusion Matrix:\n",
      " [[ 522    0    0    0    0]\n",
      " [   0  641    0    0    0]\n",
      " [   0    0  997    0    0]\n",
      " [   0    0    0 2468    0]\n",
      " [   0    0    0    0 2372]]\n",
      "Validation F1-Measure\n",
      "F1 Score: 0.279822135371\n",
      "Confusion Matrix:\n",
      " [[ 19  13  14  14  24]\n",
      " [ 13  11  17  24  31]\n",
      " [  8  21  40  58  37]\n",
      " [ 19  31  57 137 112]\n",
      " [ 15  17  31 110 127]]\n",
      "Test F1-Measure\n",
      "F1 Score: 0.276493554759\n",
      "Confusion Matrix:\n",
      " [[ 24  24  27  31  37]\n",
      " [ 22  28  42  57  41]\n",
      " [ 11  33  59 133  64]\n",
      " [ 37  44  91 278 252]\n",
      " [ 25  35  60 237 308]]\n"
     ]
    }
   ],
   "source": [
    "def decisionTree(dataset):\n",
    "    print(dataset)\n",
    "    if dataset == 'yelp':\n",
    "        dictionary = createDictionary('yelp')\n",
    "        trainingDF = readTxt('\\yelp-train.txt')\n",
    "        validDF = readTxt('\\yelp-valid.txt')\n",
    "        testDF = readTxt('\\yelp-test.txt')\n",
    "    elif dataset == 'IMDB':\n",
    "        dictionary = createDictionary('IMDB')\n",
    "        trainingDF = readTxt('\\IMDB-train.txt')\n",
    "        validDF = readTxt('\\IMDB-valid.txt')\n",
    "        testDF = readTxt('\\IMDB-test.txt')\n",
    "        \n",
    "    clf = tree.DecisionTreeClassifier()\n",
    "    clf.fit(createBagOfWordsMatrix(trainingDF, dictionary), trainingDF[1])\n",
    "    \n",
    "    print('Training F1-Measure')\n",
    "    predictionsArray = clf.predict(createBagOfWordsMatrix(trainingDF, dictionary))\n",
    "    testScores(predictionsArray, trainingDF[1])\n",
    "    \n",
    "    print('Validation F1-Measure')\n",
    "    predictionsArray = clf.predict(createBagOfWordsMatrix(validDF, dictionary))\n",
    "    testScores(predictionsArray, validDF[1])\n",
    "    \n",
    "    print('Test F1-Measure')\n",
    "    predictionsArray = clf.predict(createBagOfWordsMatrix(testDF, dictionary))\n",
    "    testScores(predictionsArray, testDF[1])\n",
    "    \n",
    "decisionTree('yelp')"
   ]
  },
  {
   "cell_type": "code",
   "execution_count": 15,
   "metadata": {},
   "outputs": [
    {
     "name": "stdout",
     "output_type": "stream",
     "text": [
      "yelp\n",
      "Training F1-Measure\n",
      "F1 Score: 0.997870801179\n",
      "Confusion Matrix:\n",
      " [[ 520    0    0    0    2]\n",
      " [   0  640    0    0    1]\n",
      " [   0    0  996    1    0]\n",
      " [   0    0    0 2454   14]\n",
      " [   0    0    0    2 2370]]\n",
      "Validation F1-Measure\n",
      "F1 Score: 0.413428426203\n",
      "Confusion Matrix:\n",
      " [[ 36  23   8   9   8]\n",
      " [ 14  25  15  28  14]\n",
      " [  7  23  50  65  19]\n",
      " [ 10  11  32 170 133]\n",
      " [  4   9  18 102 167]]\n",
      "Test F1-Measure\n",
      "F1 Score: 0.401651918294\n",
      "Confusion Matrix:\n",
      " [[ 56  33  15  19  20]\n",
      " [ 33  58  41  36  22]\n",
      " [ 12  42  77 118  51]\n",
      " [ 12  31  84 340 235]\n",
      " [ 15  12  40 237 361]]\n"
     ]
    }
   ],
   "source": [
    "def linearSVC(dataset):\n",
    "    print(dataset)\n",
    "    if dataset == 'yelp':\n",
    "        dictionary = createDictionary('yelp')\n",
    "        trainingDF = readTxt('\\yelp-train.txt')\n",
    "        validDF = readTxt('\\yelp-valid.txt')\n",
    "        testDF = readTxt('\\yelp-test.txt')\n",
    "    elif dataset == 'IMDB':\n",
    "        dictionary = createDictionary('IMDB')\n",
    "        trainingDF = readTxt('\\IMDB-train.txt')\n",
    "        validDF = readTxt('\\IMDB-valid.txt')\n",
    "        testDF = readTxt('\\IMDB-test.txt')\n",
    "        \n",
    "    clf = LinearSVC()\n",
    "    clf.fit(createBagOfWordsMatrix(trainingDF, dictionary), trainingDF[1])\n",
    "    \n",
    "    print('Training F1-Measure')\n",
    "    predictionsArray = clf.predict(createBagOfWordsMatrix(trainingDF, dictionary))\n",
    "    testScores(predictionsArray, trainingDF[1])\n",
    "    \n",
    "    print('Validation F1-Measure')\n",
    "    predictionsArray = clf.predict(createBagOfWordsMatrix(validDF, dictionary))\n",
    "    testScores(predictionsArray, validDF[1])\n",
    "    \n",
    "    print('Test F1-Measure')\n",
    "    predictionsArray = clf.predict(createBagOfWordsMatrix(testDF, dictionary))\n",
    "    testScores(predictionsArray, testDF[1])\n",
    "    \n",
    "linearSVC('yelp')"
   ]
  },
  {
   "cell_type": "code",
   "execution_count": 62,
   "metadata": {},
   "outputs": [
    {
     "data": {
      "text/plain": [
       "array([ 0.45496131,  0.44909719,  0.22499075,  0.60718262,  0.88700774,\n",
       "        0.11606062,  0.25043913,  0.29818716,  0.07464716,  0.57853166,\n",
       "        0.79232514,  0.70462551,  0.20614717,  0.76482698,  0.9613858 ,\n",
       "        0.39440047,  0.52734439,  0.35170112,  0.86977061,  0.72835051,\n",
       "        0.5478234 ,  0.57298661,  0.90017123,  0.24342005,  0.43854733,\n",
       "        0.94526765,  0.7044394 ,  0.03687636,  0.86444079,  0.93035436,\n",
       "        0.54446114,  0.64635119,  0.33263708,  0.47194136,  0.60936345,\n",
       "        0.24636262,  0.00504893,  0.15450074,  0.15871575,  0.89074797,\n",
       "        0.16178152,  0.1448574 ,  0.70948695,  0.2408426 ,  0.66307666,\n",
       "        0.97601922,  0.30455232,  0.23416088,  0.66784785,  0.45615394,\n",
       "        0.2773738 ,  0.63980427,  0.77414184,  0.6719335 ,  0.52598925,\n",
       "        0.82719959,  0.49873856,  0.90484129,  0.49775557,  0.10470619,\n",
       "        0.09034671,  0.74191927,  0.24876723,  0.13817274,  0.61237768,\n",
       "        0.98901624,  0.46866851,  0.75523998,  0.20369517,  0.49655317,\n",
       "        0.50977579,  0.91003986,  0.86681378,  0.03152569,  0.24268049,\n",
       "        0.99573213,  0.04580381,  0.47824659,  0.34551458,  0.73017401,\n",
       "        0.45621859,  0.87276351,  0.82864394,  0.48655408,  0.37445986,\n",
       "        0.44617841,  0.94246758,  0.67550099,  0.52930925,  0.84873658,\n",
       "        0.13460601,  0.5036828 ,  0.26578211,  0.35248464,  0.35904189,\n",
       "        0.69778334,  0.87845264,  0.86478554,  0.84038115,  0.44243889])"
      ]
     },
     "execution_count": 62,
     "metadata": {},
     "output_type": "execute_result"
    }
   ],
   "source": [
    "sp_uniform(1e-7,1).rvs(size = 100)\n",
    "# print(0, 1e-6)"
   ]
  },
  {
   "cell_type": "code",
   "execution_count": null,
   "metadata": {
    "collapsed": true
   },
   "outputs": [],
   "source": []
  }
 ],
 "metadata": {
  "kernelspec": {
   "display_name": "Python 3",
   "language": "python",
   "name": "python3"
  },
  "language_info": {
   "codemirror_mode": {
    "name": "ipython",
    "version": 3
   },
   "file_extension": ".py",
   "mimetype": "text/x-python",
   "name": "python",
   "nbconvert_exporter": "python",
   "pygments_lexer": "ipython3",
   "version": "3.6.3"
  }
 },
 "nbformat": 4,
 "nbformat_minor": 2
}
