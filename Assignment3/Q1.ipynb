{
 "cells": [
  {
   "cell_type": "code",
   "execution_count": 136,
   "metadata": {},
   "outputs": [],
   "source": [
    "%matplotlib inline\n",
    "import numpy as np\n",
    "import pandas as pd\n",
    "from mpl_toolkits.mplot3d import Axes3D\n",
    "import matplotlib.pyplot as plt\n",
    "from random import sample\n",
    "from collections import Counter\n",
    "import string\n",
    "from sklearn.dummy import DummyClassifier\n",
    "from numpy.random import random_integers\n",
    "from sklearn.metrics import f1_score\n",
    "from sklearn.metrics import confusion_matrix\n",
    "from sklearn.naive_bayes import BernoulliNB"
   ]
  },
  {
   "cell_type": "code",
   "execution_count": 2,
   "metadata": {
    "collapsed": true
   },
   "outputs": [],
   "source": [
    "def readTxt(fileName):\n",
    "    fullFileName = r'C:\\Users\\Owner\\McGill\\4thYear\\COMP551\\Assignments\\Assignment3\\Datasets' + fileName\n",
    "    df = pd.read_csv(fullFileName, encoding='utf-8', header = None,\n",
    "                 sep='\\t')\n",
    "    \n",
    "    return df"
   ]
  },
  {
   "cell_type": "code",
   "execution_count": 3,
   "metadata": {},
   "outputs": [],
   "source": [
    "def readCsv(fileName):\n",
    "    fullFileName = r'C:\\Users\\Owner\\McGill\\4thYear\\COMP551\\Assignments\\Assignment3' + fileName\n",
    "    df = pd.read_csv(fullFileName, encoding='utf-8', header = None,\n",
    "                 sep=',')\n",
    "    \n",
    "    return df"
   ]
  },
  {
   "cell_type": "code",
   "execution_count": 59,
   "metadata": {
    "collapsed": true
   },
   "outputs": [],
   "source": [
    "def toCsvDf(fileName, df):\n",
    "    fullFileName = r'C:\\Users\\Owner\\McGill\\4thYear\\COMP551\\Assignments\\Assignment3\\Datasets' + fileName\n",
    "    df.to_csv(fullFileName, header = False, sep='\\t', index = False)"
   ]
  },
  {
   "cell_type": "code",
   "execution_count": 58,
   "metadata": {
    "collapsed": true
   },
   "outputs": [],
   "source": [
    "def toCsvNp(fileName, npArray):\n",
    "    fullFileName = r'C:\\Users\\Owner\\McGill\\4thYear\\COMP551\\Assignments\\Assignment3\\Datasets' + fileName\n",
    "    np.savetxt(fullFileName, npArray, delimiter=',')"
   ]
  },
  {
   "cell_type": "code",
   "execution_count": 129,
   "metadata": {},
   "outputs": [],
   "source": [
    "def createDictionary(trainingSet):\n",
    "    allWords = list()\n",
    "    cnt = Counter()\n",
    "    \n",
    "    if trainingSet=='IMDB':\n",
    "        trainingDF = readTxt('\\IMDB-train.txt')\n",
    "    elif trainingSet=='yelp':\n",
    "        trainingDF = readTxt('\\yelp-train.txt')\n",
    "        \n",
    "    translator = str.maketrans('','', string.punctuation)\n",
    "    \n",
    "    for i in range(0, len(trainingDF)):\n",
    "        allWords.extend(trainingDF.iloc[i,0].translate(translator).lower().split(\" \"))\n",
    "    \n",
    "    for word in allWords:\n",
    "        cnt[word] +=1\n",
    "    \n",
    "    dictionaryWords = list(zip(*cnt.most_common(10000)))[0]\n",
    "    \n",
    "    dictionary = {}\n",
    "    for index, key in enumerate(dictionaryWords):\n",
    "        dictionary[key] = index\n",
    "#     print(dictionary)\n",
    "    newArray = np.asarray(cnt.most_common(10000))\n",
    "    withIndexVocabArray = np.insert(newArray, 1, range(0,10000),1)\n",
    "    \n",
    "#     if trainingSet=='IMDB':\n",
    "#         toCsvDf('\\IMDB-vocab.txt', pd.DataFrame(withIndexVocabArray))\n",
    "#     elif trainingSet=='yelp':\n",
    "#         toCsvDf('\\yelp-vocab.txt', pd.DataFrame(withIndexVocabArray))\n",
    "        \n",
    "    return dictionary"
   ]
  },
  {
   "cell_type": "code",
   "execution_count": 76,
   "metadata": {},
   "outputs": [],
   "source": [
    "def convertWordsToVector(trainingRow, dictionary):\n",
    "    translator = str.maketrans('','', string.punctuation)\n",
    "    returnRow = trainingRow.translate(translator).lower().split(\" \")\n",
    "    vector = np.zeros(10000, dtype=np.int8)\n",
    "    \n",
    "    for word in returnRow:\n",
    "        if word in dictionary:\n",
    "            vector[dictionary[word]] = np.int8(1)\n",
    "            \n",
    "    return vector"
   ]
  },
  {
   "cell_type": "code",
   "execution_count": 131,
   "metadata": {},
   "outputs": [],
   "source": [
    "def createBagOfWordsMatrix(df, dictionary):\n",
    "    translator = str.maketrans('','', string.punctuation)\n",
    "    \n",
    "    distancesArray = np.zeros((len(df), len(dictionary)), dtype=np.int8)\n",
    "        \n",
    "    for i in range(0, len(df)):\n",
    "        vector = convertWordsToVector(df.iloc[i,0], dictionary)\n",
    "        distancesArray[i] = vector\n",
    "\n",
    "    return distancesArray\n",
    "# trainingDF = readTxt('\\IMDB-train.txt')\n",
    "# npArray = createBagOfWordsMatrix('IMDB')\n",
    "# print(npArray)\n",
    "# dfArray = pd.DataFrame(npArray)\n",
    "# dfArray.to_csv(r'C:\\Users\\Owner\\McGill\\4thYear\\COMP551\\Assignments\\Assignment3\\Datasets\\TESTING2.csv', header = False, sep=',', index = False)"
   ]
  },
  {
   "cell_type": "code",
   "execution_count": 148,
   "metadata": {},
   "outputs": [
    {
     "name": "stdout",
     "output_type": "stream",
     "text": [
      "yelp Random Classifier\n",
      "Training F1-Measure\n",
      "F1 Score: 0.180419612228\n",
      "Confusion Matrix: [[104 102 114  97 105]\n",
      " [115 134 136 124 132]\n",
      " [225 197 183 195 197]\n",
      " [490 496 481 487 514]\n",
      " [459 486 461 479 487]]\n",
      "Validation F1-Measure\n",
      "F1 Score: 0.169737750897\n",
      "Confusion Matrix: [[15 16 15 22 16]\n",
      " [12 21 22 21 20]\n",
      " [47 33 24 28 32]\n",
      " [71 74 78 67 66]\n",
      " [69 72 47 55 57]]\n",
      "Test F1-Measure\n",
      "F1 Score: 0.186163692511\n",
      "Confusion Matrix: [[ 38  31  28  25  21]\n",
      " [ 41  36  34  34  45]\n",
      " [ 60  48  58  76  58]\n",
      " [148 157 134 124 139]\n",
      " [119 149 124 125 148]]\n"
     ]
    }
   ],
   "source": [
    "def randomClassifier(dataset):\n",
    "    print(dataset, 'Random Classifier')\n",
    "    if dataset == 'yelp':\n",
    "        dictionary = createDictionary('yelp')\n",
    "        trainingDF = readTxt('\\yelp-train.txt')\n",
    "        validDF = readTxt('\\yelp-valid.txt')\n",
    "        testDF = readTxt('\\yelp-test.txt')\n",
    "    elif dataset == 'IMDB':\n",
    "        dictionary = createDictionary('IMDB')\n",
    "        trainingDF = readTxt('\\IMDB-train.txt')\n",
    "        validDF = readTxt('\\IMDB-valid.txt')\n",
    "        testDF = readTxt('\\IMDB-test.txt')\n",
    "    \n",
    "    randomClassifier = DummyClassifier(strategy='uniform')\n",
    "    randomClassifier.fit(createBagOfWordsMatrix(trainingDF, dictionary), trainingDF[1])\n",
    "    \n",
    "    print('Training F1-Measure')\n",
    "    predictionsArray = randomClassifier.predict(createBagOfWordsMatrix(trainingDF, dictionary))\n",
    "    testScores(predictionsArray, trainingDF[1])\n",
    "    \n",
    "    print('Validation F1-Measure')\n",
    "    predictionsArray = randomClassifier.predict(createBagOfWordsMatrix(validDF, dictionary))\n",
    "    testScores(predictionsArray, validDF[1])\n",
    "    \n",
    "    print('Test F1-Measure')\n",
    "    predictionsArray = randomClassifier.predict(createBagOfWordsMatrix(testDF, dictionary))\n",
    "    testScores(predictionsArray, testDF[1])\n",
    "    \n",
    "randomClassifier('yelp')"
   ]
  },
  {
   "cell_type": "code",
   "execution_count": 150,
   "metadata": {},
   "outputs": [
    {
     "name": "stdout",
     "output_type": "stream",
     "text": [
      "yelp Majority Classifier\n",
      "Training F1-Measure\n"
     ]
    },
    {
     "name": "stderr",
     "output_type": "stream",
     "text": [
      "C:\\Users\\Owner\\Anaconda3\\lib\\site-packages\\sklearn\\metrics\\classification.py:1135: UndefinedMetricWarning: F-score is ill-defined and being set to 0.0 in labels with no predicted samples.\n",
      "  'precision', 'predicted', average, warn_for)\n"
     ]
    },
    {
     "name": "stdout",
     "output_type": "stream",
     "text": [
      "F1 Score: 0.104267004647\n",
      "Confusion Matrix: [[   0    0    0  522    0]\n",
      " [   0    0    0  641    0]\n",
      " [   0    0    0  997    0]\n",
      " [   0    0    0 2468    0]\n",
      " [   0    0    0 2372    0]]\n",
      "Validation F1-Measure\n",
      "F1 Score: 0.105014749263\n",
      "Confusion Matrix: [[  0   0   0  84   0]\n",
      " [  0   0   0  96   0]\n",
      " [  0   0   0 164   0]\n",
      " [  0   0   0 356   0]\n",
      " [  0   0   0 300   0]]\n",
      "Test F1-Measure\n",
      "F1 Score: 0.103923019985\n",
      "Confusion Matrix: [[  0   0   0 143   0]\n",
      " [  0   0   0 190   0]\n",
      " [  0   0   0 300   0]\n",
      " [  0   0   0 702   0]\n",
      " [  0   0   0 665   0]]\n"
     ]
    }
   ],
   "source": [
    "def majorityClassifier(dataset):\n",
    "    print(dataset, 'Majority Classifier')\n",
    "    if dataset == 'yelp':\n",
    "        dictionary = createDictionary('yelp')\n",
    "        trainingDF = readTxt('\\yelp-train.txt')\n",
    "        validDF = readTxt('\\yelp-valid.txt')\n",
    "        testDF = readTxt('\\yelp-test.txt')\n",
    "    elif dataset == 'IMDB':\n",
    "        dictionary = createDictionary('IMDB')\n",
    "        trainingDF = readTxt('\\IMDB-train.txt')\n",
    "        validDF = readTxt('\\IMDB-valid.txt')\n",
    "        testDF = readTxt('\\IMDB-test.txt')\n",
    "    \n",
    "    majorityClassifier = DummyClassifier(strategy='most_frequent')\n",
    "    majorityClassifier.fit(createBagOfWordsMatrix(trainingDF, dictionary), trainingDF[1])\n",
    "    \n",
    "    print('Training F1-Measure')\n",
    "    predictionsArray = majorityClassifier.predict(createBagOfWordsMatrix(trainingDF, dictionary))\n",
    "    testScores(predictionsArray, trainingDF[1])\n",
    "    \n",
    "    print('Validation F1-Measure')\n",
    "    predictionsArray = majorityClassifier.predict(createBagOfWordsMatrix(validDF, dictionary))\n",
    "    testScores(predictionsArray, validDF[1])\n",
    "    \n",
    "    print('Test F1-Measure')\n",
    "    predictionsArray = majorityClassifier.predict(createBagOfWordsMatrix(testDF, dictionary))\n",
    "    testScores(predictionsArray, testDF[1])\n",
    "    \n",
    "# baselineClassifier('IMDB')\n",
    "majorityClassifier('yelp')"
   ]
  },
  {
   "cell_type": "code",
   "execution_count": 140,
   "metadata": {
    "collapsed": true
   },
   "outputs": [],
   "source": [
    "def testScores(predicted, actual):\n",
    "    print('F1 Score:', f1_score(actual, predicted, average='macro'))\n",
    "    print('Confusion Matrix:', confusion_matrix(actual, predicted))"
   ]
  },
  {
   "cell_type": "code",
   "execution_count": 144,
   "metadata": {},
   "outputs": [
    {
     "name": "stdout",
     "output_type": "stream",
     "text": [
      "yelp\n",
      "Training F1-Measure\n",
      "F1 Score: 0.580313605691\n",
      "Confusion Matrix: [[ 274    5   17   22  204]\n",
      " [   9  320   28   85  199]\n",
      " [  10   27  474  157  329]\n",
      " [  36  144   83 1237  968]\n",
      " [  50  121   75  247 1879]]\n",
      "Validation F1-Measure\n",
      "F1 Score: 0.326966475705\n",
      "Confusion Matrix: [[ 27  12   5   6  34]\n",
      " [  9  17  11  27  32]\n",
      " [  4  21  28  55  56]\n",
      " [  9  29  27 119 172]\n",
      " [ 11  22  14  64 189]]\n",
      "Test F1-Measure\n",
      "F1 Score: 0.342970426948\n",
      "Confusion Matrix: [[ 40  24   6  21  52]\n",
      " [ 20  47  33  29  61]\n",
      " [ 11  34  47  94 114]\n",
      " [  9  58  63 250 322]\n",
      " [ 10  38  24 153 440]]\n"
     ]
    }
   ],
   "source": [
    "def bernoulliNB(dataset):\n",
    "    print(dataset)\n",
    "    if dataset == 'yelp':\n",
    "        dictionary = createDictionary('yelp')\n",
    "        trainingDF = readTxt('\\yelp-train.txt')\n",
    "        validDF = readTxt('\\yelp-valid.txt')\n",
    "        testDF = readTxt('\\yelp-test.txt')\n",
    "    elif dataset == 'IMDB':\n",
    "        dictionary = createDictionary('IMDB')\n",
    "        trainingDF = readTxt('\\IMDB-train.txt')\n",
    "        validDF = readTxt('\\IMDB-valid.txt')\n",
    "        testDF = readTxt('\\IMDB-test.txt')\n",
    "        \n",
    "    clf = BernoulliNB()\n",
    "    clf.fit(createBagOfWordsMatrix(trainingDF, dictionary), trainingDF[1])\n",
    "    \n",
    "    print('Training F1-Measure')\n",
    "    predictionsArray = clf.predict(createBagOfWordsMatrix(trainingDF, dictionary))\n",
    "    testScores(predictionsArray, trainingDF[1])\n",
    "    \n",
    "    print('Validation F1-Measure')\n",
    "    predictionsArray = clf.predict(createBagOfWordsMatrix(validDF, dictionary))\n",
    "    testScores(predictionsArray, validDF[1])\n",
    "    \n",
    "    print('Test F1-Measure')\n",
    "    predictionsArray = clf.predict(createBagOfWordsMatrix(testDF, dictionary))\n",
    "    testScores(predictionsArray, testDF[1])\n",
    "    \n",
    "bernoulliNB('yelp')"
   ]
  }
 ],
 "metadata": {
  "kernelspec": {
   "display_name": "Python 3",
   "language": "python",
   "name": "python3"
  },
  "language_info": {
   "codemirror_mode": {
    "name": "ipython",
    "version": 3
   },
   "file_extension": ".py",
   "mimetype": "text/x-python",
   "name": "python",
   "nbconvert_exporter": "python",
   "pygments_lexer": "ipython3",
   "version": "3.6.3"
  }
 },
 "nbformat": 4,
 "nbformat_minor": 2
}
